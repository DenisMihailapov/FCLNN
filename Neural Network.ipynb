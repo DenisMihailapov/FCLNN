{
 "cells": [
  {
   "cell_type": "markdown",
   "metadata": {
    "id": "I7g_907K0aWp"
   },
   "source": [
    "#  Нейронная сеть"
   ]
  },
  {
   "cell_type": "code",
   "execution_count": 15,
   "metadata": {
    "colab": {
     "base_uri": "https://localhost:8080/"
    },
    "executionInfo": {
     "elapsed": 24516,
     "status": "ok",
     "timestamp": 1639972840826,
     "user": {
      "displayName": "Денис Иванович Михайлапов",
      "photoUrl": "https://lh3.googleusercontent.com/a/default-user=s64",
      "userId": "07025369822590947805"
     },
     "user_tz": -420
    },
    "id": "AfZ0QiZR0zLw",
    "outputId": "177d884e-5ad1-497b-f8f9-d0c525f53f6a"
   },
   "outputs": [],
   "source": [
    "path = '.'\n",
    "import sys; sys.path.append(path)"
   ]
  },
  {
   "cell_type": "code",
   "execution_count": 16,
   "metadata": {
    "executionInfo": {
     "elapsed": 4,
     "status": "ok",
     "timestamp": 1639972840827,
     "user": {
      "displayName": "Денис Иванович Михайлапов",
      "photoUrl": "https://lh3.googleusercontent.com/a/default-user=s64",
      "userId": "07025369822590947805"
     },
     "user_tz": -420
    },
    "id": "OqiCaBzJ0aWs"
   },
   "outputs": [
    {
     "name": "stdout",
     "output_type": "stream",
     "text": [
      "The autoreload extension is already loaded. To reload it, use:\n",
      "  %reload_ext autoreload\n"
     ]
    }
   ],
   "source": [
    "import matplotlib.pyplot as plt\n",
    "\n",
    "%matplotlib inline\n",
    "\n",
    "%load_ext autoreload\n",
    "%autoreload 2"
   ]
  },
  {
   "cell_type": "code",
   "execution_count": 17,
   "metadata": {
    "executionInfo": {
     "elapsed": 276,
     "status": "ok",
     "timestamp": 1639974495303,
     "user": {
      "displayName": "Денис Иванович Михайлапов",
      "photoUrl": "https://lh3.googleusercontent.com/a/default-user=s64",
      "userId": "07025369822590947805"
     },
     "user_tz": -420
    },
    "id": "AaCcfK8F0aWt"
   },
   "outputs": [],
   "source": [
    "from dataset import Dataset\n",
    "from metrics import compute_accuracy\n",
    "\n",
    "from trainer import Trainer\n",
    "from optim   import Optimizer\n",
    "from model   import FCLayersNN"
   ]
  },
  {
   "cell_type": "markdown",
   "metadata": {
    "id": "cIDD3_vj0aWu"
   },
   "source": [
    "# Загружаем данные\n"
   ]
  },
  {
   "cell_type": "code",
   "execution_count": null,
   "metadata": {
    "collapsed": false
   },
   "outputs": [],
   "source": [
    "dataset = Dataset(\"./data\")  # svhn dataset\n",
    "n_input, n_output = dataset.get_dim_features()"
   ]
  },
  {
   "cell_type": "markdown",
   "metadata": {
    "id": "I-DzGYSL0aWy"
   },
   "source": [
    "## Тренируем нейронную сеть"
   ]
  },
  {
   "cell_type": "code",
   "execution_count": null,
   "metadata": {
    "colab": {
     "base_uri": "https://localhost:8080/"
    },
    "executionInfo": {
     "elapsed": 421029,
     "status": "ok",
     "timestamp": 1639975244171,
     "user": {
      "displayName": "Денис Иванович Михайлапов",
      "photoUrl": "https://lh3.googleusercontent.com/a/default-user=s64",
      "userId": "07025369822590947805"
     },
     "user_tz": -420
    },
    "id": "jIX3KSRW0aWz",
    "outputId": "aeb57f65-47f5-4287-fe5f-8f3569ee5d62"
   },
   "outputs": [
    {
     "name": "stdout",
     "output_type": "stream",
     "text": [
      "Start train accuracy: 0.106\n"
     ]
    },
    {
     "name": "stderr",
     "output_type": "stream",
     "text": [
      "  1%|          | 1/100 [00:00<01:15,  1.31it/s]"
     ]
    },
    {
     "name": "stdout",
     "output_type": "stream",
     "text": [
      "\n",
      " Loss: 2.27236, Train accuracy: 0.198, val accuracy: 0.197\n"
     ]
    },
    {
     "name": "stderr",
     "output_type": "stream",
     "text": [
      "  2%|▏         | 2/100 [00:02<01:52,  1.15s/it]"
     ]
    },
    {
     "name": "stdout",
     "output_type": "stream",
     "text": [
      "\n",
      " Loss: 2.26197, Train accuracy: 0.198, val accuracy: 0.197\n"
     ]
    },
    {
     "name": "stderr",
     "output_type": "stream",
     "text": [
      "  3%|▎         | 3/100 [00:03<01:56,  1.20s/it]"
     ]
    },
    {
     "name": "stdout",
     "output_type": "stream",
     "text": [
      "\n",
      " Loss: 2.25103, Train accuracy: 0.198, val accuracy: 0.197\n"
     ]
    },
    {
     "name": "stderr",
     "output_type": "stream",
     "text": [
      "  4%|▍         | 4/100 [00:04<01:36,  1.00s/it]"
     ]
    },
    {
     "name": "stdout",
     "output_type": "stream",
     "text": [
      "\n",
      " Loss: 2.23752, Train accuracy: 0.198, val accuracy: 0.197\n"
     ]
    },
    {
     "name": "stderr",
     "output_type": "stream",
     "text": [
      "  5%|▌         | 5/100 [00:04<01:23,  1.14it/s]"
     ]
    },
    {
     "name": "stdout",
     "output_type": "stream",
     "text": [
      "\n",
      " Loss: 2.21693, Train accuracy: 0.198, val accuracy: 0.197\n"
     ]
    },
    {
     "name": "stderr",
     "output_type": "stream",
     "text": [
      "  6%|▌         | 6/100 [00:06<01:53,  1.20s/it]"
     ]
    },
    {
     "name": "stdout",
     "output_type": "stream",
     "text": [
      "\n",
      " Loss: 2.18915, Train accuracy: 0.198, val accuracy: 0.197\n"
     ]
    },
    {
     "name": "stderr",
     "output_type": "stream",
     "text": [
      "  7%|▋         | 7/100 [00:07<01:49,  1.17s/it]"
     ]
    },
    {
     "name": "stdout",
     "output_type": "stream",
     "text": [
      "\n",
      " Loss: 2.15733, Train accuracy: 0.207, val accuracy: 0.206\n"
     ]
    },
    {
     "name": "stderr",
     "output_type": "stream",
     "text": [
      "  8%|▊         | 8/100 [00:08<01:36,  1.05s/it]"
     ]
    },
    {
     "name": "stdout",
     "output_type": "stream",
     "text": [
      "\n",
      " Loss: 2.12336, Train accuracy: 0.224, val accuracy: 0.223\n"
     ]
    },
    {
     "name": "stderr",
     "output_type": "stream",
     "text": [
      "  9%|▉         | 9/100 [00:09<01:25,  1.06it/s]"
     ]
    },
    {
     "name": "stdout",
     "output_type": "stream",
     "text": [
      "\n",
      " Loss: 2.08891, Train accuracy: 0.24, val accuracy: 0.241\n"
     ]
    },
    {
     "name": "stderr",
     "output_type": "stream",
     "text": [
      " 10%|█         | 10/100 [00:09<01:13,  1.22it/s]"
     ]
    },
    {
     "name": "stdout",
     "output_type": "stream",
     "text": [
      "\n",
      " Loss: 2.05151, Train accuracy: 0.254, val accuracy: 0.258\n"
     ]
    },
    {
     "name": "stderr",
     "output_type": "stream",
     "text": [
      " 11%|█         | 11/100 [00:10<01:09,  1.29it/s]"
     ]
    },
    {
     "name": "stdout",
     "output_type": "stream",
     "text": [
      "\n",
      " Loss: 2.01248, Train accuracy: 0.264, val accuracy: 0.269\n"
     ]
    },
    {
     "name": "stderr",
     "output_type": "stream",
     "text": [
      " 12%|█▏        | 12/100 [00:12<01:32,  1.05s/it]"
     ]
    },
    {
     "name": "stdout",
     "output_type": "stream",
     "text": [
      "\n",
      " Loss: 1.96966, Train accuracy: 0.272, val accuracy: 0.277\n"
     ]
    },
    {
     "name": "stderr",
     "output_type": "stream",
     "text": [
      " 13%|█▎        | 13/100 [00:14<02:02,  1.41s/it]"
     ]
    },
    {
     "name": "stdout",
     "output_type": "stream",
     "text": [
      "\n",
      " Loss: 1.92177, Train accuracy: 0.281, val accuracy: 0.279\n"
     ]
    },
    {
     "name": "stderr",
     "output_type": "stream",
     "text": [
      " 14%|█▍        | 14/100 [00:15<01:56,  1.36s/it]"
     ]
    },
    {
     "name": "stdout",
     "output_type": "stream",
     "text": [
      "\n",
      " Loss: 1.8641, Train accuracy: 0.298, val accuracy: 0.294\n"
     ]
    },
    {
     "name": "stderr",
     "output_type": "stream",
     "text": [
      " 15%|█▌        | 15/100 [00:17<02:01,  1.43s/it]"
     ]
    },
    {
     "name": "stdout",
     "output_type": "stream",
     "text": [
      "\n",
      " Loss: 1.79174, Train accuracy: 0.328, val accuracy: 0.32\n"
     ]
    },
    {
     "name": "stderr",
     "output_type": "stream",
     "text": [
      " 16%|█▌        | 16/100 [00:18<01:45,  1.25s/it]"
     ]
    },
    {
     "name": "stdout",
     "output_type": "stream",
     "text": [
      "\n",
      " Loss: 1.6978, Train accuracy: 0.36, val accuracy: 0.356\n"
     ]
    },
    {
     "name": "stderr",
     "output_type": "stream",
     "text": [
      " 17%|█▋        | 17/100 [00:18<01:29,  1.08s/it]"
     ]
    },
    {
     "name": "stdout",
     "output_type": "stream",
     "text": [
      "\n",
      " Loss: 1.5967, Train accuracy: 0.394, val accuracy: 0.387\n"
     ]
    },
    {
     "name": "stderr",
     "output_type": "stream",
     "text": [
      " 18%|█▊        | 18/100 [00:19<01:22,  1.01s/it]"
     ]
    },
    {
     "name": "stdout",
     "output_type": "stream",
     "text": [
      "\n",
      " Loss: 1.50311, Train accuracy: 0.424, val accuracy: 0.425\n"
     ]
    },
    {
     "name": "stderr",
     "output_type": "stream",
     "text": [
      " 19%|█▉        | 19/100 [00:20<01:20,  1.00it/s]"
     ]
    },
    {
     "name": "stdout",
     "output_type": "stream",
     "text": [
      "\n",
      " Loss: 1.44128, Train accuracy: 0.443, val accuracy: 0.444\n"
     ]
    },
    {
     "name": "stderr",
     "output_type": "stream",
     "text": [
      " 20%|██        | 20/100 [00:21<01:11,  1.12it/s]"
     ]
    },
    {
     "name": "stdout",
     "output_type": "stream",
     "text": [
      "\n",
      " Loss: 1.3988, Train accuracy: 0.462, val accuracy: 0.458\n"
     ]
    },
    {
     "name": "stderr",
     "output_type": "stream",
     "text": [
      " 21%|██        | 21/100 [00:22<01:10,  1.13it/s]"
     ]
    },
    {
     "name": "stdout",
     "output_type": "stream",
     "text": [
      "\n",
      " Loss: 1.37855, Train accuracy: 0.476, val accuracy: 0.472\n"
     ]
    },
    {
     "name": "stderr",
     "output_type": "stream",
     "text": [
      " 22%|██▏       | 22/100 [00:22<01:01,  1.27it/s]"
     ]
    },
    {
     "name": "stdout",
     "output_type": "stream",
     "text": [
      "\n",
      " Loss: 1.37839, Train accuracy: 0.492, val accuracy: 0.482\n"
     ]
    },
    {
     "name": "stderr",
     "output_type": "stream",
     "text": [
      " 23%|██▎       | 23/100 [00:23<00:58,  1.31it/s]"
     ]
    },
    {
     "name": "stdout",
     "output_type": "stream",
     "text": [
      "\n",
      " Loss: 1.38679, Train accuracy: 0.509, val accuracy: 0.503\n"
     ]
    },
    {
     "name": "stderr",
     "output_type": "stream",
     "text": [
      " 24%|██▍       | 24/100 [00:23<00:53,  1.42it/s]"
     ]
    },
    {
     "name": "stdout",
     "output_type": "stream",
     "text": [
      "\n",
      " Loss: 1.40957, Train accuracy: 0.528, val accuracy: 0.516\n"
     ]
    },
    {
     "name": "stderr",
     "output_type": "stream",
     "text": [
      " 25%|██▌       | 25/100 [00:24<00:54,  1.37it/s]"
     ]
    },
    {
     "name": "stdout",
     "output_type": "stream",
     "text": [
      "\n",
      " Loss: 1.4269, Train accuracy: 0.544, val accuracy: 0.526\n"
     ]
    },
    {
     "name": "stderr",
     "output_type": "stream",
     "text": [
      " 26%|██▌       | 26/100 [00:25<00:59,  1.24it/s]"
     ]
    },
    {
     "name": "stdout",
     "output_type": "stream",
     "text": [
      "\n",
      " Loss: 1.44172, Train accuracy: 0.56, val accuracy: 0.543\n"
     ]
    },
    {
     "name": "stderr",
     "output_type": "stream",
     "text": [
      " 27%|██▋       | 27/100 [00:26<01:03,  1.14it/s]"
     ]
    },
    {
     "name": "stdout",
     "output_type": "stream",
     "text": [
      "\n",
      " Loss: 1.46105, Train accuracy: 0.577, val accuracy: 0.556\n"
     ]
    },
    {
     "name": "stderr",
     "output_type": "stream",
     "text": [
      " 28%|██▊       | 28/100 [00:27<00:57,  1.25it/s]"
     ]
    },
    {
     "name": "stdout",
     "output_type": "stream",
     "text": [
      "\n",
      " Loss: 1.48617, Train accuracy: 0.589, val accuracy: 0.569\n"
     ]
    },
    {
     "name": "stderr",
     "output_type": "stream",
     "text": [
      " 29%|██▉       | 29/100 [00:28<00:59,  1.19it/s]"
     ]
    },
    {
     "name": "stdout",
     "output_type": "stream",
     "text": [
      "\n",
      " Loss: 1.49081, Train accuracy: 0.6, val accuracy: 0.58\n"
     ]
    },
    {
     "name": "stderr",
     "output_type": "stream",
     "text": [
      " 30%|███       | 30/100 [00:29<01:04,  1.08it/s]"
     ]
    },
    {
     "name": "stdout",
     "output_type": "stream",
     "text": [
      "\n",
      " Loss: 1.49829, Train accuracy: 0.61, val accuracy: 0.589\n"
     ]
    },
    {
     "name": "stderr",
     "output_type": "stream",
     "text": [
      " 31%|███       | 31/100 [00:30<01:04,  1.07it/s]"
     ]
    },
    {
     "name": "stdout",
     "output_type": "stream",
     "text": [
      "\n",
      " Loss: 1.4974, Train accuracy: 0.615, val accuracy: 0.591\n"
     ]
    },
    {
     "name": "stderr",
     "output_type": "stream",
     "text": [
      " 32%|███▏      | 32/100 [00:31<01:01,  1.11it/s]"
     ]
    },
    {
     "name": "stdout",
     "output_type": "stream",
     "text": [
      "\n",
      " Loss: 1.49343, Train accuracy: 0.621, val accuracy: 0.596\n"
     ]
    },
    {
     "name": "stderr",
     "output_type": "stream",
     "text": [
      " 33%|███▎      | 33/100 [00:32<01:00,  1.10it/s]"
     ]
    },
    {
     "name": "stdout",
     "output_type": "stream",
     "text": [
      "\n",
      " Loss: 1.47298, Train accuracy: 0.631, val accuracy: 0.598\n"
     ]
    },
    {
     "name": "stderr",
     "output_type": "stream",
     "text": [
      " 34%|███▍      | 34/100 [00:33<01:04,  1.02it/s]"
     ]
    },
    {
     "name": "stdout",
     "output_type": "stream",
     "text": [
      "\n",
      " Loss: 1.45976, Train accuracy: 0.639, val accuracy: 0.604\n"
     ]
    },
    {
     "name": "stderr",
     "output_type": "stream",
     "text": [
      " 35%|███▌      | 35/100 [00:34<01:01,  1.06it/s]"
     ]
    },
    {
     "name": "stdout",
     "output_type": "stream",
     "text": [
      "\n",
      " Loss: 1.45407, Train accuracy: 0.651, val accuracy: 0.615\n"
     ]
    },
    {
     "name": "stderr",
     "output_type": "stream",
     "text": [
      " 36%|███▌      | 36/100 [00:35<01:10,  1.10s/it]"
     ]
    },
    {
     "name": "stdout",
     "output_type": "stream",
     "text": [
      "\n",
      " Loss: 1.43212, Train accuracy: 0.658, val accuracy: 0.621\n"
     ]
    },
    {
     "name": "stderr",
     "output_type": "stream",
     "text": [
      " 37%|███▋      | 37/100 [00:36<01:13,  1.17s/it]"
     ]
    },
    {
     "name": "stdout",
     "output_type": "stream",
     "text": [
      "\n",
      " Loss: 1.41536, Train accuracy: 0.661, val accuracy: 0.625\n"
     ]
    },
    {
     "name": "stderr",
     "output_type": "stream",
     "text": [
      " 38%|███▊      | 38/100 [00:37<01:05,  1.06s/it]"
     ]
    },
    {
     "name": "stdout",
     "output_type": "stream",
     "text": [
      "\n",
      " Loss: 1.36801, Train accuracy: 0.665, val accuracy: 0.629\n"
     ]
    },
    {
     "name": "stderr",
     "output_type": "stream",
     "text": [
      " 39%|███▉      | 39/100 [00:38<01:01,  1.00s/it]"
     ]
    },
    {
     "name": "stdout",
     "output_type": "stream",
     "text": [
      "\n",
      " Loss: 1.33573, Train accuracy: 0.673, val accuracy: 0.634\n"
     ]
    },
    {
     "name": "stderr",
     "output_type": "stream",
     "text": [
      " 40%|████      | 40/100 [00:39<00:58,  1.03it/s]"
     ]
    },
    {
     "name": "stdout",
     "output_type": "stream",
     "text": [
      "\n",
      " Loss: 1.29467, Train accuracy: 0.677, val accuracy: 0.636\n"
     ]
    },
    {
     "name": "stderr",
     "output_type": "stream",
     "text": [
      " 41%|████      | 41/100 [00:40<00:58,  1.00it/s]"
     ]
    },
    {
     "name": "stdout",
     "output_type": "stream",
     "text": [
      "\n",
      " Loss: 1.25272, Train accuracy: 0.682, val accuracy: 0.64\n"
     ]
    },
    {
     "name": "stderr",
     "output_type": "stream",
     "text": [
      " 42%|████▏     | 42/100 [00:41<00:50,  1.15it/s]"
     ]
    },
    {
     "name": "stdout",
     "output_type": "stream",
     "text": [
      "\n",
      " Loss: 1.22975, Train accuracy: 0.685, val accuracy: 0.645\n"
     ]
    },
    {
     "name": "stderr",
     "output_type": "stream",
     "text": [
      " 43%|████▎     | 43/100 [00:42<01:00,  1.06s/it]"
     ]
    },
    {
     "name": "stdout",
     "output_type": "stream",
     "text": [
      "\n",
      " Loss: 1.20253, Train accuracy: 0.688, val accuracy: 0.648\n"
     ]
    },
    {
     "name": "stderr",
     "output_type": "stream",
     "text": [
      " 44%|████▍     | 44/100 [00:44<01:05,  1.17s/it]"
     ]
    },
    {
     "name": "stdout",
     "output_type": "stream",
     "text": [
      "\n",
      " Loss: 1.1807, Train accuracy: 0.689, val accuracy: 0.65\n"
     ]
    },
    {
     "name": "stderr",
     "output_type": "stream",
     "text": [
      " 45%|████▌     | 45/100 [00:45<01:02,  1.13s/it]"
     ]
    },
    {
     "name": "stdout",
     "output_type": "stream",
     "text": [
      "\n",
      " Loss: 1.14501, Train accuracy: 0.694, val accuracy: 0.649\n"
     ]
    },
    {
     "name": "stderr",
     "output_type": "stream",
     "text": [
      " 46%|████▌     | 46/100 [00:45<00:52,  1.02it/s]"
     ]
    },
    {
     "name": "stdout",
     "output_type": "stream",
     "text": [
      "\n",
      " Loss: 1.10691, Train accuracy: 0.701, val accuracy: 0.65\n"
     ]
    },
    {
     "name": "stderr",
     "output_type": "stream",
     "text": [
      " 47%|████▋     | 47/100 [00:46<00:47,  1.12it/s]"
     ]
    },
    {
     "name": "stdout",
     "output_type": "stream",
     "text": [
      "\n",
      " Loss: 1.07115, Train accuracy: 0.701, val accuracy: 0.65\n"
     ]
    },
    {
     "name": "stderr",
     "output_type": "stream",
     "text": [
      " 48%|████▊     | 48/100 [00:47<00:42,  1.22it/s]"
     ]
    },
    {
     "name": "stdout",
     "output_type": "stream",
     "text": [
      "\n",
      " Loss: 1.03794, Train accuracy: 0.705, val accuracy: 0.653\n"
     ]
    },
    {
     "name": "stderr",
     "output_type": "stream",
     "text": [
      " 49%|████▉     | 49/100 [00:47<00:40,  1.26it/s]"
     ]
    },
    {
     "name": "stdout",
     "output_type": "stream",
     "text": [
      "\n",
      " Loss: 0.98077, Train accuracy: 0.711, val accuracy: 0.656\n"
     ]
    },
    {
     "name": "stderr",
     "output_type": "stream",
     "text": [
      " 50%|█████     | 50/100 [00:48<00:36,  1.36it/s]"
     ]
    },
    {
     "name": "stdout",
     "output_type": "stream",
     "text": [
      "\n",
      " Loss: 0.96055, Train accuracy: 0.715, val accuracy: 0.656\n"
     ]
    },
    {
     "name": "stderr",
     "output_type": "stream",
     "text": [
      " 51%|█████     | 51/100 [00:48<00:33,  1.47it/s]"
     ]
    },
    {
     "name": "stdout",
     "output_type": "stream",
     "text": [
      "\n",
      " Loss: 0.93672, Train accuracy: 0.719, val accuracy: 0.655\n"
     ]
    },
    {
     "name": "stderr",
     "output_type": "stream",
     "text": [
      " 52%|█████▏    | 52/100 [00:49<00:31,  1.53it/s]"
     ]
    },
    {
     "name": "stdout",
     "output_type": "stream",
     "text": [
      "\n",
      " Loss: 0.89494, Train accuracy: 0.722, val accuracy: 0.653\n"
     ]
    },
    {
     "name": "stderr",
     "output_type": "stream",
     "text": [
      " 53%|█████▎    | 53/100 [00:50<00:30,  1.54it/s]"
     ]
    },
    {
     "name": "stdout",
     "output_type": "stream",
     "text": [
      "\n",
      " Loss: 0.8627, Train accuracy: 0.728, val accuracy: 0.659\n"
     ]
    },
    {
     "name": "stderr",
     "output_type": "stream",
     "text": [
      " 54%|█████▍    | 54/100 [00:50<00:29,  1.55it/s]"
     ]
    },
    {
     "name": "stdout",
     "output_type": "stream",
     "text": [
      "\n",
      " Loss: 0.83345, Train accuracy: 0.73, val accuracy: 0.66\n"
     ]
    },
    {
     "name": "stderr",
     "output_type": "stream",
     "text": [
      " 55%|█████▌    | 55/100 [00:51<00:33,  1.36it/s]"
     ]
    },
    {
     "name": "stdout",
     "output_type": "stream",
     "text": [
      "\n",
      " Loss: 0.81446, Train accuracy: 0.735, val accuracy: 0.662\n"
     ]
    },
    {
     "name": "stderr",
     "output_type": "stream",
     "text": [
      " 56%|█████▌    | 56/100 [00:52<00:33,  1.30it/s]"
     ]
    },
    {
     "name": "stdout",
     "output_type": "stream",
     "text": [
      "\n",
      " Loss: 0.8037, Train accuracy: 0.737, val accuracy: 0.665\n"
     ]
    },
    {
     "name": "stderr",
     "output_type": "stream",
     "text": [
      " 57%|█████▋    | 57/100 [00:53<00:32,  1.31it/s]"
     ]
    },
    {
     "name": "stdout",
     "output_type": "stream",
     "text": [
      "\n",
      " Loss: 0.78743, Train accuracy: 0.739, val accuracy: 0.664\n"
     ]
    },
    {
     "name": "stderr",
     "output_type": "stream",
     "text": [
      " 58%|█████▊    | 58/100 [00:53<00:30,  1.36it/s]"
     ]
    },
    {
     "name": "stdout",
     "output_type": "stream",
     "text": [
      "\n",
      " Loss: 0.77549, Train accuracy: 0.742, val accuracy: 0.664\n"
     ]
    },
    {
     "name": "stderr",
     "output_type": "stream",
     "text": [
      " 59%|█████▉    | 59/100 [00:54<00:29,  1.39it/s]"
     ]
    },
    {
     "name": "stdout",
     "output_type": "stream",
     "text": [
      "\n",
      " Loss: 0.76587, Train accuracy: 0.745, val accuracy: 0.666\n"
     ]
    },
    {
     "name": "stderr",
     "output_type": "stream",
     "text": [
      " 60%|██████    | 60/100 [00:55<00:27,  1.44it/s]"
     ]
    },
    {
     "name": "stdout",
     "output_type": "stream",
     "text": [
      "\n",
      " Loss: 0.76106, Train accuracy: 0.747, val accuracy: 0.667\n"
     ]
    },
    {
     "name": "stderr",
     "output_type": "stream",
     "text": [
      " 61%|██████    | 61/100 [00:55<00:25,  1.54it/s]"
     ]
    },
    {
     "name": "stdout",
     "output_type": "stream",
     "text": [
      "\n",
      " Loss: 0.75521, Train accuracy: 0.751, val accuracy: 0.667\n"
     ]
    },
    {
     "name": "stderr",
     "output_type": "stream",
     "text": [
      " 62%|██████▏   | 62/100 [00:56<00:24,  1.54it/s]"
     ]
    },
    {
     "name": "stdout",
     "output_type": "stream",
     "text": [
      "\n",
      " Loss: 0.73803, Train accuracy: 0.754, val accuracy: 0.667\n"
     ]
    },
    {
     "name": "stderr",
     "output_type": "stream",
     "text": [
      " 63%|██████▎   | 63/100 [00:57<00:23,  1.60it/s]"
     ]
    },
    {
     "name": "stdout",
     "output_type": "stream",
     "text": [
      "\n",
      " Loss: 0.73622, Train accuracy: 0.755, val accuracy: 0.668\n"
     ]
    },
    {
     "name": "stderr",
     "output_type": "stream",
     "text": [
      " 64%|██████▍   | 64/100 [00:58<00:26,  1.38it/s]"
     ]
    },
    {
     "name": "stdout",
     "output_type": "stream",
     "text": [
      "\n",
      " Loss: 0.7259, Train accuracy: 0.755, val accuracy: 0.67\n"
     ]
    },
    {
     "name": "stderr",
     "output_type": "stream",
     "text": [
      " 65%|██████▌   | 65/100 [00:58<00:26,  1.34it/s]"
     ]
    },
    {
     "name": "stdout",
     "output_type": "stream",
     "text": [
      "\n",
      " Loss: 0.71742, Train accuracy: 0.758, val accuracy: 0.669\n"
     ]
    },
    {
     "name": "stderr",
     "output_type": "stream",
     "text": [
      " 66%|██████▌   | 66/100 [00:59<00:25,  1.32it/s]"
     ]
    },
    {
     "name": "stdout",
     "output_type": "stream",
     "text": [
      "\n",
      " Loss: 0.71855, Train accuracy: 0.76, val accuracy: 0.672\n"
     ]
    },
    {
     "name": "stderr",
     "output_type": "stream",
     "text": [
      " 67%|██████▋   | 67/100 [01:00<00:24,  1.36it/s]"
     ]
    },
    {
     "name": "stdout",
     "output_type": "stream",
     "text": [
      "\n",
      " Loss: 0.7163, Train accuracy: 0.762, val accuracy: 0.668\n"
     ]
    },
    {
     "name": "stderr",
     "output_type": "stream",
     "text": [
      " 68%|██████▊   | 68/100 [01:01<00:27,  1.16it/s]"
     ]
    },
    {
     "name": "stdout",
     "output_type": "stream",
     "text": [
      "\n",
      " Loss: 0.72888, Train accuracy: 0.765, val accuracy: 0.672\n"
     ]
    },
    {
     "name": "stderr",
     "output_type": "stream",
     "text": [
      " 69%|██████▉   | 69/100 [01:02<00:24,  1.27it/s]"
     ]
    },
    {
     "name": "stdout",
     "output_type": "stream",
     "text": [
      "\n",
      " Loss: 0.71777, Train accuracy: 0.766, val accuracy: 0.67\n"
     ]
    },
    {
     "name": "stderr",
     "output_type": "stream",
     "text": [
      " 70%|███████   | 70/100 [01:02<00:23,  1.28it/s]"
     ]
    },
    {
     "name": "stdout",
     "output_type": "stream",
     "text": [
      "\n",
      " Loss: 0.70992, Train accuracy: 0.768, val accuracy: 0.668\n"
     ]
    },
    {
     "name": "stderr",
     "output_type": "stream",
     "text": [
      " 71%|███████   | 71/100 [01:03<00:20,  1.41it/s]"
     ]
    },
    {
     "name": "stdout",
     "output_type": "stream",
     "text": [
      "\n",
      " Loss: 0.70385, Train accuracy: 0.769, val accuracy: 0.671\n"
     ]
    },
    {
     "name": "stderr",
     "output_type": "stream",
     "text": [
      " 72%|███████▏  | 72/100 [01:04<00:19,  1.45it/s]"
     ]
    },
    {
     "name": "stdout",
     "output_type": "stream",
     "text": [
      "\n",
      " Loss: 0.69637, Train accuracy: 0.77, val accuracy: 0.67\n"
     ]
    },
    {
     "name": "stderr",
     "output_type": "stream",
     "text": [
      " 73%|███████▎  | 73/100 [01:04<00:17,  1.55it/s]"
     ]
    },
    {
     "name": "stdout",
     "output_type": "stream",
     "text": [
      "\n",
      " Loss: 0.68481, Train accuracy: 0.775, val accuracy: 0.672\n"
     ]
    },
    {
     "name": "stderr",
     "output_type": "stream",
     "text": [
      " 74%|███████▍  | 74/100 [01:05<00:18,  1.43it/s]"
     ]
    },
    {
     "name": "stdout",
     "output_type": "stream",
     "text": [
      "\n",
      " Loss: 0.67747, Train accuracy: 0.776, val accuracy: 0.672\n"
     ]
    },
    {
     "name": "stderr",
     "output_type": "stream",
     "text": [
      " 75%|███████▌  | 75/100 [01:05<00:16,  1.50it/s]"
     ]
    },
    {
     "name": "stdout",
     "output_type": "stream",
     "text": [
      "\n",
      " Loss: 0.67258, Train accuracy: 0.776, val accuracy: 0.675\n"
     ]
    },
    {
     "name": "stderr",
     "output_type": "stream",
     "text": [
      " 76%|███████▌  | 76/100 [01:06<00:14,  1.62it/s]"
     ]
    },
    {
     "name": "stdout",
     "output_type": "stream",
     "text": [
      "\n",
      " Loss: 0.67096, Train accuracy: 0.775, val accuracy: 0.674\n"
     ]
    },
    {
     "name": "stderr",
     "output_type": "stream",
     "text": [
      " 77%|███████▋  | 77/100 [01:07<00:14,  1.59it/s]"
     ]
    },
    {
     "name": "stdout",
     "output_type": "stream",
     "text": [
      "\n",
      " Loss: 0.64322, Train accuracy: 0.774, val accuracy: 0.673\n"
     ]
    },
    {
     "name": "stderr",
     "output_type": "stream",
     "text": [
      " 78%|███████▊  | 78/100 [01:08<00:16,  1.34it/s]"
     ]
    },
    {
     "name": "stdout",
     "output_type": "stream",
     "text": [
      "\n",
      " Loss: 0.6451, Train accuracy: 0.777, val accuracy: 0.668\n"
     ]
    },
    {
     "name": "stderr",
     "output_type": "stream",
     "text": [
      " 79%|███████▉  | 79/100 [01:09<00:16,  1.26it/s]"
     ]
    },
    {
     "name": "stdout",
     "output_type": "stream",
     "text": [
      "\n",
      " Loss: 0.65547, Train accuracy: 0.776, val accuracy: 0.667\n"
     ]
    },
    {
     "name": "stderr",
     "output_type": "stream",
     "text": [
      " 80%|████████  | 80/100 [01:09<00:15,  1.29it/s]"
     ]
    },
    {
     "name": "stdout",
     "output_type": "stream",
     "text": [
      "\n",
      " Loss: 0.65987, Train accuracy: 0.778, val accuracy: 0.669\n"
     ]
    },
    {
     "name": "stderr",
     "output_type": "stream",
     "text": [
      " 81%|████████  | 81/100 [01:10<00:14,  1.29it/s]"
     ]
    },
    {
     "name": "stdout",
     "output_type": "stream",
     "text": [
      "\n",
      " Loss: 0.64088, Train accuracy: 0.778, val accuracy: 0.672\n"
     ]
    },
    {
     "name": "stderr",
     "output_type": "stream",
     "text": [
      " 82%|████████▏ | 82/100 [01:11<00:13,  1.38it/s]"
     ]
    },
    {
     "name": "stdout",
     "output_type": "stream",
     "text": [
      "\n",
      " Loss: 0.63755, Train accuracy: 0.78, val accuracy: 0.673\n"
     ]
    },
    {
     "name": "stderr",
     "output_type": "stream",
     "text": [
      " 83%|████████▎ | 83/100 [01:12<00:12,  1.31it/s]"
     ]
    },
    {
     "name": "stdout",
     "output_type": "stream",
     "text": [
      "\n",
      " Loss: 0.62895, Train accuracy: 0.782, val accuracy: 0.674\n"
     ]
    },
    {
     "name": "stderr",
     "output_type": "stream",
     "text": [
      " 84%|████████▍ | 84/100 [01:12<00:11,  1.33it/s]"
     ]
    },
    {
     "name": "stdout",
     "output_type": "stream",
     "text": [
      "\n",
      " Loss: 0.62983, Train accuracy: 0.78, val accuracy: 0.677\n"
     ]
    },
    {
     "name": "stderr",
     "output_type": "stream",
     "text": [
      " 85%|████████▌ | 85/100 [01:13<00:10,  1.40it/s]"
     ]
    },
    {
     "name": "stdout",
     "output_type": "stream",
     "text": [
      "\n",
      " Loss: 0.62916, Train accuracy: 0.78, val accuracy: 0.675\n"
     ]
    },
    {
     "name": "stderr",
     "output_type": "stream",
     "text": [
      " 86%|████████▌ | 86/100 [01:14<00:10,  1.40it/s]"
     ]
    },
    {
     "name": "stdout",
     "output_type": "stream",
     "text": [
      "\n",
      " Loss: 0.62217, Train accuracy: 0.783, val accuracy: 0.673\n"
     ]
    },
    {
     "name": "stderr",
     "output_type": "stream",
     "text": [
      " 87%|████████▋ | 87/100 [01:14<00:08,  1.53it/s]"
     ]
    },
    {
     "name": "stdout",
     "output_type": "stream",
     "text": [
      "\n",
      " Loss: 0.6094, Train accuracy: 0.783, val accuracy: 0.675\n"
     ]
    },
    {
     "name": "stderr",
     "output_type": "stream",
     "text": [
      " 88%|████████▊ | 88/100 [01:15<00:07,  1.64it/s]"
     ]
    },
    {
     "name": "stdout",
     "output_type": "stream",
     "text": [
      "\n",
      " Loss: 0.59612, Train accuracy: 0.785, val accuracy: 0.675\n"
     ]
    },
    {
     "name": "stderr",
     "output_type": "stream",
     "text": [
      " 89%|████████▉ | 89/100 [01:15<00:06,  1.60it/s]"
     ]
    },
    {
     "name": "stdout",
     "output_type": "stream",
     "text": [
      "\n",
      " Loss: 0.59295, Train accuracy: 0.787, val accuracy: 0.675\n"
     ]
    },
    {
     "name": "stderr",
     "output_type": "stream",
     "text": [
      " 90%|█████████ | 90/100 [01:16<00:05,  1.67it/s]"
     ]
    },
    {
     "name": "stdout",
     "output_type": "stream",
     "text": [
      "\n",
      " Loss: 0.59391, Train accuracy: 0.786, val accuracy: 0.674\n"
     ]
    },
    {
     "name": "stderr",
     "output_type": "stream",
     "text": [
      " 91%|█████████ | 91/100 [01:16<00:05,  1.72it/s]"
     ]
    },
    {
     "name": "stdout",
     "output_type": "stream",
     "text": [
      "\n",
      " Loss: 0.57667, Train accuracy: 0.786, val accuracy: 0.676\n"
     ]
    },
    {
     "name": "stderr",
     "output_type": "stream",
     "text": [
      " 92%|█████████▏| 92/100 [01:17<00:04,  1.81it/s]"
     ]
    },
    {
     "name": "stdout",
     "output_type": "stream",
     "text": [
      "\n",
      " Loss: 0.56801, Train accuracy: 0.787, val accuracy: 0.676\n"
     ]
    },
    {
     "name": "stderr",
     "output_type": "stream",
     "text": [
      " 93%|█████████▎| 93/100 [01:18<00:04,  1.67it/s]"
     ]
    },
    {
     "name": "stdout",
     "output_type": "stream",
     "text": [
      "\n",
      " Loss: 0.57192, Train accuracy: 0.787, val accuracy: 0.678\n"
     ]
    },
    {
     "name": "stderr",
     "output_type": "stream",
     "text": [
      " 94%|█████████▍| 94/100 [01:18<00:03,  1.72it/s]"
     ]
    },
    {
     "name": "stdout",
     "output_type": "stream",
     "text": [
      "\n",
      " Loss: 0.56219, Train accuracy: 0.789, val accuracy: 0.676\n"
     ]
    },
    {
     "name": "stderr",
     "output_type": "stream",
     "text": [
      " 95%|█████████▌| 95/100 [01:19<00:02,  1.76it/s]"
     ]
    },
    {
     "name": "stdout",
     "output_type": "stream",
     "text": [
      "\n",
      " Loss: 0.54942, Train accuracy: 0.789, val accuracy: 0.676\n"
     ]
    },
    {
     "name": "stderr",
     "output_type": "stream",
     "text": [
      " 96%|█████████▌| 96/100 [01:19<00:02,  1.82it/s]"
     ]
    },
    {
     "name": "stdout",
     "output_type": "stream",
     "text": [
      "\n",
      " Loss: 0.53846, Train accuracy: 0.79, val accuracy: 0.679\n"
     ]
    },
    {
     "name": "stderr",
     "output_type": "stream",
     "text": [
      " 97%|█████████▋| 97/100 [01:20<00:01,  1.83it/s]"
     ]
    },
    {
     "name": "stdout",
     "output_type": "stream",
     "text": [
      "\n",
      " Loss: 0.5288, Train accuracy: 0.792, val accuracy: 0.68\n"
     ]
    },
    {
     "name": "stderr",
     "output_type": "stream",
     "text": [
      " 98%|█████████▊| 98/100 [01:20<00:01,  1.58it/s]"
     ]
    },
    {
     "name": "stdout",
     "output_type": "stream",
     "text": [
      "\n",
      " Loss: 0.52343, Train accuracy: 0.792, val accuracy: 0.678\n"
     ]
    },
    {
     "name": "stderr",
     "output_type": "stream",
     "text": [
      " 99%|█████████▉| 99/100 [01:21<00:00,  1.64it/s]"
     ]
    },
    {
     "name": "stdout",
     "output_type": "stream",
     "text": [
      "\n",
      " Loss: 0.51352, Train accuracy: 0.794, val accuracy: 0.678\n"
     ]
    },
    {
     "name": "stderr",
     "output_type": "stream",
     "text": [
      "100%|██████████| 100/100 [01:22<00:00,  1.22it/s]"
     ]
    },
    {
     "name": "stdout",
     "output_type": "stream",
     "text": [
      "\n",
      " Loss: 0.50881, Train accuracy: 0.794, val accuracy: 0.677\n"
     ]
    },
    {
     "name": "stderr",
     "output_type": "stream",
     "text": [
      "\n"
     ]
    }
   ],
   "source": [
    "model = FCLayersNN(n_input = n_input, n_output = n_output, n_hidden = [20, 15])\n",
    "\n",
    "dataset.mode(\"val\")\n",
    "print('Start train accuracy:', compute_accuracy(model, dataset))\n",
    "\n",
    "optimizer = Optimizer(model.params(), learning_rate = 2e-2, opt_type=\"sgd\")\n",
    "trainer = Trainer(model, dataset, optimizer, num_epochs=100)\n",
    "\n",
    "loss_history, train_history, val_history = trainer.fit()"
   ]
  },
  {
   "cell_type": "code",
   "execution_count": null,
   "metadata": {
    "collapsed": false
   },
   "outputs": [
    {
     "data": {
      "text/plain": [
       "[<matplotlib.lines.Line2D at 0x7fc4f695e1c0>]"
      ]
     },
     "execution_count": 6,
     "metadata": {},
     "output_type": "execute_result"
    },
    {
     "data": {
      "image/png": "[encoded data removed]",
      "text/plain": [
       "<Figure size 640x480 with 1 Axes>"
      ]
     },
     "metadata": {},
     "output_type": "display_data"
    }
   ],
   "source": [
    "plt.plot(train_history)\n",
    "plt.plot(val_history)"
   ]
  },
  {
   "cell_type": "code",
   "execution_count": null,
   "metadata": {
    "colab": {
     "base_uri": "https://localhost:8080/",
     "height": 284
    },
    "executionInfo": {
     "elapsed": 858,
     "status": "ok",
     "timestamp": 1639975279867,
     "user": {
      "displayName": "Денис Иванович Михайлапов",
      "photoUrl": "https://lh3.googleusercontent.com/a/default-user=s64",
      "userId": "07025369822590947805"
     },
     "user_tz": -420
    },
    "id": "FnX4SqbFHZeR",
    "outputId": "edeaaa89-2e43-4bfa-9d1f-426717c81db9"
   },
   "outputs": [
    {
     "data": {
      "text/plain": [
       "[<matplotlib.lines.Line2D at 0x7fc4f685af40>]"
      ]
     },
     "execution_count": 7,
     "metadata": {},
     "output_type": "execute_result"
    },
    {
     "data": {
      "image/png": "[encoded data removed]",
      "text/plain": [
       "<Figure size 640x480 with 1 Axes>"
      ]
     },
     "metadata": {},
     "output_type": "display_data"
    }
   ],
   "source": [
    "plt.plot(loss_history)"
   ]
  },
  {
   "cell_type": "markdown",
   "metadata": {},
   "source": [
    "## Main task"
   ]
  },
  {
   "cell_type": "code",
   "execution_count": null,
   "metadata": {},
   "outputs": [],
   "source": [
    "import numpy as np\n",
    "\n",
    "def current_func(ftype=\"xsin\"):\n",
    "    \"\"\"Функция выбора целевой функции\"\"\"\n",
    "    \n",
    "    if ftype == \"cos\":\n",
    "        return lambda x: np.cos(2*np.pi*x)\n",
    "    elif ftype == \"poly\":\n",
    "        return lambda x: 5*x**3 + x**2 + 5\n",
    "    elif ftype == \"xsin\":\n",
    "        return lambda x: x*np.sin(2*np.pi*x)\n",
    "    else:\n",
    "        raise ValueError(f\"unknown func {ftype}\")         \n",
    "\n",
    "\n",
    "def current_noise(size, fnoise='norm', fmax = 1.0):\n",
    "    \"\"\"Выбор шума\"\"\"\n",
    "    \n",
    "    # Нормализация\n",
    "    if fmax < 1:\n",
    "        fmax = 1./fmax**2\n",
    "    fmax = fmax / 4\n",
    "      \n",
    "    if fnoise == 'norm':\n",
    "        return np.random.normal(scale=np.sqrt(fmax), size=size)\n",
    "    elif fnoise == 'uniform':\n",
    "        if fmax < 1:\n",
    "            fmax = 1./fmax**2\n",
    "        fmax = fmax / 4\n",
    "        return np.random.uniform(-1.0, 1.0, size=size) / fmax\n",
    "    else:\n",
    "        raise ValueError(f\"unknown noise {fnoise}\")   \n",
    "    \n",
    "\n",
    "\n",
    "def get_func_with_noise(x, ftype=\"xsin\", fnoise='norm', noise=0.2, get_cur_func=True):\n",
    "    \"\"\"Функция с шумом\"\"\"\n",
    "\n",
    "    func = current_func(ftype)\n",
    "    val_func = func(x)\n",
    "    noised_func = val_func + noise*current_noise(len(x), fnoise, np.amax(val_func))\n",
    "    \n",
    "    if get_cur_func:\n",
    "        return func, noised_func\n",
    "    \n",
    "    return noised_func"
   ]
  },
  {
   "cell_type": "markdown",
   "metadata": {},
   "source": [
    "## set dataset"
   ]
  },
  {
   "cell_type": "code",
   "execution_count": null,
   "metadata": {},
   "outputs": [
    {
     "data": {
      "image/png": "[encoded data removed]",
      "text/plain": [
       "<Figure size 640x480 with 1 Axes>"
      ]
     },
     "metadata": {},
     "output_type": "display_data"
    }
   ],
   "source": [
    "x = np.linspace(0, 2*np.pi, 256)\n",
    "_, y = get_func_with_noise(x, \"poly\", noise=2.)\n",
    "y = (y - y.min()) / (y.max() - y.min())\n",
    "\n",
    "plt.plot(x, y)\n",
    "plt.show()"
   ]
  },
  {
   "cell_type": "code",
   "execution_count": null,
   "metadata": {},
   "outputs": [],
   "source": [
    "x = x.reshape(-1, 1)\n",
    "dataset.set_data(x, y)"
   ]
  },
  {
   "cell_type": "markdown",
   "metadata": {},
   "source": [
    "## set model and train"
   ]
  },
  {
   "cell_type": "code",
   "execution_count": null,
   "metadata": {},
   "outputs": [],
   "source": [
    "model = FCLayersNN(n_input = 1, n_output = 1, n_hidden = [5, 5])\n",
    "optimizer = Optimizer(model.params(), learning_rate=7e-3, opt_type=\"sgd\")\n",
    "trainer = Trainer(model, dataset, optimizer, num_epochs=200, batch_size=32)"
   ]
  },
  {
   "cell_type": "code",
   "execution_count": null,
   "metadata": {},
   "outputs": [
    {
     "name": "stderr",
     "output_type": "stream",
     "text": [
      " 85%|████████▌ | 170/200 [00:00<00:00, 845.70it/s]"
     ]
    },
    {
     "name": "stdout",
     "output_type": "stream",
     "text": [
      "\n",
      " Loss: 0.07385\n",
      "\n",
      " Loss: 0.0736\n",
      "\n",
      " Loss: 0.07268\n",
      "\n",
      " Loss: 0.07098\n",
      "\n",
      " Loss: 0.06773\n",
      "\n",
      " Loss: 0.06136\n",
      "\n",
      " Loss: 0.04527\n",
      "\n",
      " Loss: 0.02873\n",
      "\n",
      " Loss: 0.0188\n",
      "\n",
      " Loss: 0.01429\n",
      "\n",
      " Loss: 0.01245\n",
      "\n",
      " Loss: 0.01164\n",
      "\n",
      " Loss: 0.01119\n",
      "\n",
      " Loss: 0.01086\n",
      "\n",
      " Loss: 0.01055\n",
      "\n",
      " Loss: 0.01027\n",
      "\n",
      " Loss: 0.00999\n",
      "\n",
      " Loss: 0.00972\n",
      "\n",
      " Loss: 0.00946\n",
      "\n",
      " Loss: 0.0092\n",
      "\n",
      " Loss: 0.00897\n",
      "\n",
      " Loss: 0.00876\n",
      "\n",
      " Loss: 0.00855\n",
      "\n",
      " Loss: 0.0084\n",
      "\n",
      " Loss: 0.00832\n",
      "\n",
      " Loss: 0.00817\n",
      "\n",
      " Loss: 0.00805\n",
      "\n",
      " Loss: 0.008\n",
      "\n",
      " Loss: 0.00793\n",
      "\n",
      " Loss: 0.0079\n",
      "\n",
      " Loss: 0.00799\n",
      "\n",
      " Loss: 0.00811\n",
      "\n",
      " Loss: 0.00828\n",
      "\n",
      " Loss: 0.00858\n",
      "\n",
      " Loss: 0.00884\n",
      "\n",
      " Loss: 0.00908\n",
      "\n",
      " Loss: 0.00934\n",
      "\n",
      " Loss: 0.00947\n",
      "\n",
      " Loss: 0.00962\n",
      "\n",
      " Loss: 0.00983\n",
      "\n",
      " Loss: 0.01003\n",
      "\n",
      " Loss: 0.01017\n",
      "\n",
      " Loss: 0.01023\n",
      "\n",
      " Loss: 0.01029\n",
      "\n",
      " Loss: 0.01036\n",
      "\n",
      " Loss: 0.01019\n",
      "\n",
      " Loss: 0.01022\n",
      "\n",
      " Loss: 0.01032\n",
      "\n",
      " Loss: 0.01035\n",
      "\n",
      " Loss: 0.01038\n",
      "\n",
      " Loss: 0.01039\n",
      "\n",
      " Loss: 0.01017\n",
      "\n",
      " Loss: 0.01008\n",
      "\n",
      " Loss: 0.01006\n",
      "\n",
      " Loss: 0.01006\n",
      "\n",
      " Loss: 0.01003\n",
      "\n",
      " Loss: 0.00946\n",
      "\n",
      " Loss: 0.00946\n",
      "\n",
      " Loss: 0.00949\n",
      "\n",
      " Loss: 0.00942\n",
      "\n",
      " Loss: 0.00938\n",
      "\n",
      " Loss: 0.00932\n",
      "\n",
      " Loss: 0.00924\n",
      "\n",
      " Loss: 0.00909\n",
      "\n",
      " Loss: 0.00902\n",
      "\n",
      " Loss: 0.00895\n",
      "\n",
      " Loss: 0.00887\n",
      "\n",
      " Loss: 0.0088\n",
      "\n",
      " Loss: 0.00872\n",
      "\n",
      " Loss: 0.00865\n",
      "\n",
      " Loss: 0.00857\n",
      "\n",
      " Loss: 0.0085\n",
      "\n",
      " Loss: 0.00843\n",
      "\n",
      " Loss: 0.00835\n",
      "\n",
      " Loss: 0.00812\n",
      "\n",
      " Loss: 0.00804\n",
      "\n",
      " Loss: 0.008\n",
      "\n",
      " Loss: 0.00778\n",
      "\n",
      " Loss: 0.00773\n",
      "\n",
      " Loss: 0.00772\n",
      "\n",
      " Loss: 0.0077\n",
      "\n",
      " Loss: 0.0075\n",
      "\n",
      " Loss: 0.00747\n",
      "\n",
      " Loss: 0.00746\n",
      "\n",
      " Loss: 0.00743\n",
      "\n",
      " Loss: 0.00707\n",
      "\n",
      " Loss: 0.00709\n",
      "\n",
      " Loss: 0.00719\n",
      "\n",
      " Loss: 0.00695\n",
      "\n",
      " Loss: 0.00691\n",
      "\n",
      " Loss: 0.00698\n",
      "\n",
      " Loss: 0.00703\n",
      "\n",
      " Loss: 0.00702\n",
      "\n",
      " Loss: 0.00703\n",
      "\n",
      " Loss: 0.00672\n",
      "\n",
      " Loss: 0.00669\n",
      "\n",
      " Loss: 0.00672\n",
      "\n",
      " Loss: 0.00674\n",
      "\n",
      " Loss: 0.00675\n",
      "\n",
      " Loss: 0.00674\n",
      "\n",
      " Loss: 0.00673\n",
      "\n",
      " Loss: 0.00672\n",
      "\n",
      " Loss: 0.00669\n",
      "\n",
      " Loss: 0.00668\n",
      "\n",
      " Loss: 0.00665\n",
      "\n",
      " Loss: 0.00661\n",
      "\n",
      " Loss: 0.00657\n",
      "\n",
      " Loss: 0.00653\n",
      "\n",
      " Loss: 0.00649\n",
      "\n",
      " Loss: 0.00647\n",
      "\n",
      " Loss: 0.00642\n",
      "\n",
      " Loss: 0.00638\n",
      "\n",
      " Loss: 0.00611\n",
      "\n",
      " Loss: 0.00605\n",
      "\n",
      " Loss: 0.00602\n",
      "\n",
      " Loss: 0.00599\n",
      "\n",
      " Loss: 0.00596\n",
      "\n",
      " Loss: 0.00591\n",
      "\n",
      " Loss: 0.00586\n",
      "\n",
      " Loss: 0.00582\n",
      "\n",
      " Loss: 0.00577\n",
      "\n",
      " Loss: 0.0057\n",
      "\n",
      " Loss: 0.00541\n",
      "\n",
      " Loss: 0.00526\n",
      "\n",
      " Loss: 0.0052\n",
      "\n",
      " Loss: 0.00522\n",
      "\n",
      " Loss: 0.00523\n",
      "\n",
      " Loss: 0.00522\n",
      "\n",
      " Loss: 0.0052\n",
      "\n",
      " Loss: 0.00503\n",
      "\n",
      " Loss: 0.00498\n",
      "\n",
      " Loss: 0.00497\n",
      "\n",
      " Loss: 0.00496\n",
      "\n",
      " Loss: 0.00495\n",
      "\n",
      " Loss: 0.00495\n",
      "\n",
      " Loss: 0.00496\n",
      "\n",
      " Loss: 0.00487\n",
      "\n",
      " Loss: 0.00484\n",
      "\n",
      " Loss: 0.00481\n",
      "\n",
      " Loss: 0.00477\n",
      "\n",
      " Loss: 0.00474\n",
      "\n",
      " Loss: 0.00471\n",
      "\n",
      " Loss: 0.00467\n",
      "\n",
      " Loss: 0.00464\n",
      "\n",
      " Loss: 0.0046\n",
      "\n",
      " Loss: 0.00457\n",
      "\n",
      " Loss: 0.00453\n",
      "\n",
      " Loss: 0.0045\n",
      "\n",
      " Loss: 0.00448\n",
      "\n",
      " Loss: 0.00442\n",
      "\n",
      " Loss: 0.00439\n",
      "\n",
      " Loss: 0.0044\n",
      "\n",
      " Loss: 0.00437\n",
      "\n",
      " Loss: 0.00434\n",
      "\n",
      " Loss: 0.00428\n",
      "\n",
      " Loss: 0.00425\n",
      "\n",
      " Loss: 0.00422\n",
      "\n",
      " Loss: 0.0042\n",
      "\n",
      " Loss: 0.00417\n",
      "\n",
      " Loss: 0.00414\n",
      "\n",
      " Loss: 0.00412\n",
      "\n",
      " Loss: 0.00409\n",
      "\n",
      " Loss: 0.00403\n",
      "\n",
      " Loss: 0.00399\n",
      "\n",
      " Loss: 0.00397\n",
      "\n",
      " Loss: 0.00399\n",
      "\n",
      " Loss: 0.00395\n",
      "\n",
      " Loss: 0.00391\n",
      "\n",
      " Loss: 0.00393\n",
      "\n",
      " Loss: 0.00388\n",
      "\n",
      " Loss: 0.00385\n"
     ]
    },
    {
     "name": "stderr",
     "output_type": "stream",
     "text": [
      "100%|██████████| 200/200 [00:00<00:00, 841.50it/s]"
     ]
    },
    {
     "name": "stdout",
     "output_type": "stream",
     "text": [
      "\n",
      " Loss: 0.00386\n",
      "\n",
      " Loss: 0.00382\n",
      "\n",
      " Loss: 0.00382\n",
      "\n",
      " Loss: 0.00377\n",
      "\n",
      " Loss: 0.00378\n",
      "\n",
      " Loss: 0.00373\n",
      "\n",
      " Loss: 0.00373\n",
      "\n",
      " Loss: 0.00355\n",
      "\n",
      " Loss: 0.0034\n",
      "\n",
      " Loss: 0.00346\n",
      "\n",
      " Loss: 0.0034\n",
      "\n",
      " Loss: 0.00337\n",
      "\n",
      " Loss: 0.00335\n",
      "\n",
      " Loss: 0.00333\n",
      "\n",
      " Loss: 0.00331\n",
      "\n",
      " Loss: 0.00329\n",
      "\n",
      " Loss: 0.00328\n",
      "\n",
      " Loss: 0.00326\n",
      "\n",
      " Loss: 0.00324\n",
      "\n",
      " Loss: 0.00323\n",
      "\n",
      " Loss: 0.00321\n",
      "\n",
      " Loss: 0.0032\n",
      "\n",
      " Loss: 0.00319\n",
      "\n",
      " Loss: 0.00317\n",
      "\n",
      " Loss: 0.00316\n",
      "\n",
      " Loss: 0.00314\n",
      "\n",
      " Loss: 0.00313\n",
      "\n",
      " Loss: 0.00312\n",
      "\n",
      " Loss: 0.0031\n"
     ]
    },
    {
     "name": "stderr",
     "output_type": "stream",
     "text": [
      "\n"
     ]
    }
   ],
   "source": [
    "loss_history, train_history, val_history = trainer.fit()"
   ]
  },
  {
   "cell_type": "code",
   "execution_count": null,
   "metadata": {},
   "outputs": [
    {
     "data": {
      "text/plain": [
       "[<matplotlib.lines.Line2D at 0x7fc4f6790d00>]"
      ]
     },
     "execution_count": 13,
     "metadata": {},
     "output_type": "execute_result"
    },
    {
     "data": {
      "image/png": "[encoded data removed]",
      "text/plain": [
       "<Figure size 640x480 with 1 Axes>"
      ]
     },
     "metadata": {},
     "output_type": "display_data"
    }
   ],
   "source": [
    "plt.plot(loss_history)"
   ]
  },
  {
   "cell_type": "code",
   "execution_count": null,
   "metadata": {},
   "outputs": [
    {
     "data": {
      "image/png": "[encoded data removed]",
      "text/plain": [
       "<Figure size 640x480 with 1 Axes>"
      ]
     },
     "metadata": {},
     "output_type": "display_data"
    }
   ],
   "source": [
    "plt.plot(x, y)\n",
    "model.predict(x)\n",
    "plt.plot(x, model.pred)\n",
    "plt.show()"
   ]
  }
 ],
 "metadata": {
  "colab": {
   "collapsed_sections": [],
   "name": "Neural Network.ipynb",
   "provenance": []
  },
  "kernelspec": {
   "display_name": "Python 3.10.4 64-bit",
   "language": "python",
   "name": "python3"
  },
  "language_info": {
   "codemirror_mode": {
    "name": "ipython",
    "version": 3
   },
   "file_extension": ".py",
   "mimetype": "text/x-python",
   "name": "python",
   "nbconvert_exporter": "python",
   "pygments_lexer": "ipython3",
   "version": "3.10.4"
  },
  "vscode": {
   "interpreter": {
    "hash": "e7370f93d1d0cde622a1f8e1c04877d8463912d04d973331ad4851f04de6915a"
   }
  }
 },
 "nbformat": 4,
 "nbformat_minor": 0
}
