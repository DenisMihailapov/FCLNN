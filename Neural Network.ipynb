{
 "cells": [
  {
   "cell_type": "markdown",
   "metadata": {
    "id": "I7g_907K0aWp"
   },
   "source": [
    "#  Нейронная сеть"
   ]
  },
  {
   "cell_type": "code",
   "execution_count": null,
   "metadata": {
    "colab": {
     "base_uri": "https://localhost:8080/"
    },
    "executionInfo": {
     "elapsed": 24516,
     "status": "ok",
     "timestamp": 1639972840826,
     "user": {
      "displayName": "Денис Иванович Михайлапов",
      "photoUrl": "https://lh3.googleusercontent.com/a/default-user=s64",
      "userId": "07025369822590947805"
     },
     "user_tz": -420
    },
    "id": "AfZ0QiZR0zLw",
    "outputId": "177d884e-5ad1-497b-f8f9-d0c525f53f6a",
    "ExecuteTime": {
     "start_time": "2023-04-03T23:50:30.369530Z",
     "end_time": "2023-04-03T23:50:30.370072Z"
    }
   },
   "outputs": [],
   "source": [
    "path = '.'\n",
    "import sys; sys.path.append(path)"
   ]
  },
  {
   "cell_type": "code",
   "execution_count": null,
   "metadata": {
    "executionInfo": {
     "elapsed": 4,
     "status": "ok",
     "timestamp": 1639972840827,
     "user": {
      "displayName": "Денис Иванович Михайлапов",
      "photoUrl": "https://lh3.googleusercontent.com/a/default-user=s64",
      "userId": "07025369822590947805"
     },
     "user_tz": -420
    },
    "id": "OqiCaBzJ0aWs",
    "ExecuteTime": {
     "start_time": "2023-04-03T23:50:30.617334Z",
     "end_time": "2023-04-03T23:50:30.846713Z"
    }
   },
   "outputs": [],
   "source": [
    "import matplotlib.pyplot as plt\n",
    "\n",
    "%matplotlib inline\n",
    "\n",
    "%load_ext autoreload\n",
    "%autoreload 2"
   ]
  },
  {
   "cell_type": "code",
   "execution_count": null,
   "metadata": {
    "executionInfo": {
     "elapsed": 276,
     "status": "ok",
     "timestamp": 1639974495303,
     "user": {
      "displayName": "Денис Иванович Михайлапов",
      "photoUrl": "https://lh3.googleusercontent.com/a/default-user=s64",
      "userId": "07025369822590947805"
     },
     "user_tz": -420
    },
    "id": "AaCcfK8F0aWt",
    "ExecuteTime": {
     "start_time": "2023-04-03T23:50:30.893421Z",
     "end_time": "2023-04-03T23:50:30.936269Z"
    }
   },
   "outputs": [],
   "source": [
    "from dataset import Dataset\n",
    "from train.metrics import compute_accuracy\n",
    "from train.trainer import Trainer\n",
    "from train.optim   import SGD\n",
    "from train.loss import CrossEntropyLoss\n",
    "\n",
    "from model   import FCLayersNN"
   ]
  },
  {
   "cell_type": "markdown",
   "metadata": {
    "id": "cIDD3_vj0aWu"
   },
   "source": [
    "# Загружаем данные\n"
   ]
  },
  {
   "cell_type": "code",
   "execution_count": null,
   "metadata": {
    "collapsed": false,
    "ExecuteTime": {
     "start_time": "2023-04-03T23:50:31.098113Z",
     "end_time": "2023-04-03T23:50:33.277794Z"
    }
   },
   "outputs": [],
   "source": [
    "dataset = Dataset(\"./data\")  # svhn dataset\n",
    "n_input, n_output = dataset.get_dim_features()"
   ]
  },
  {
   "cell_type": "markdown",
   "metadata": {
    "id": "I-DzGYSL0aWy"
   },
   "source": [
    "## Тренируем нейронную сеть"
   ]
  },
  {
   "cell_type": "code",
   "execution_count": null,
   "outputs": [],
   "source": [],
   "metadata": {
    "collapsed": false,
    "ExecuteTime": {
     "start_time": "2023-04-03T23:50:33.321316Z",
     "end_time": "2023-04-03T23:50:33.321688Z"
    }
   }
  },
  {
   "cell_type": "code",
   "execution_count": null,
   "metadata": {
    "colab": {
     "base_uri": "https://localhost:8080/"
    },
    "executionInfo": {
     "elapsed": 421029,
     "status": "ok",
     "timestamp": 1639975244171,
     "user": {
      "displayName": "Денис Иванович Михайлапов",
      "photoUrl": "https://lh3.googleusercontent.com/a/default-user=s64",
      "userId": "07025369822590947805"
     },
     "user_tz": -420
    },
    "id": "jIX3KSRW0aWz",
    "outputId": "aeb57f65-47f5-4287-fe5f-8f3569ee5d62",
    "ExecuteTime": {
     "start_time": "2023-04-03T23:50:33.321376Z",
     "end_time": "2023-04-03T23:51:58.728362Z"
    }
   },
   "outputs": [],
   "source": [
    "model = FCLayersNN(n_input = n_input, n_output = n_output, n_hidden = [20, 15], activation=\"silu\")\n",
    "dataset.mode(\"val\")\n",
    "print('Start train accuracy:', compute_accuracy(model, dataset))\n",
    "\n",
    "optimizer = SGD(model.params(), learning_rate = 2e-2)\n",
    "loss_fn = CrossEntropyLoss()\n",
    "trainer = Trainer(model, dataset, optimizer, loss_fn, num_epochs=200)\n",
    "\n",
    "loss_history, train_history, val_history = trainer.fit()"
   ]
  },
  {
   "cell_type": "code",
   "execution_count": null,
   "outputs": [],
   "source": [
    "model.fc_layers[-1].probs.sum(1)"
   ],
   "metadata": {
    "collapsed": false,
    "ExecuteTime": {
     "start_time": "2023-04-03T23:10:56.050219Z",
     "end_time": "2023-04-03T23:10:56.078097Z"
    }
   }
  },
  {
   "cell_type": "code",
   "execution_count": null,
   "metadata": {
    "collapsed": false,
    "ExecuteTime": {
     "start_time": "2023-04-03T23:08:28.082982Z",
     "end_time": "2023-04-03T23:08:28.251475Z"
    }
   },
   "outputs": [],
   "source": [
    "plt.plot(train_history)\n",
    "plt.plot(val_history)"
   ]
  },
  {
   "cell_type": "code",
   "execution_count": null,
   "metadata": {
    "colab": {
     "base_uri": "https://localhost:8080/",
     "height": 284
    },
    "executionInfo": {
     "elapsed": 858,
     "status": "ok",
     "timestamp": 1639975279867,
     "user": {
      "displayName": "Денис Иванович Михайлапов",
      "photoUrl": "https://lh3.googleusercontent.com/a/default-user=s64",
      "userId": "07025369822590947805"
     },
     "user_tz": -420
    },
    "id": "FnX4SqbFHZeR",
    "outputId": "edeaaa89-2e43-4bfa-9d1f-426717c81db9",
    "ExecuteTime": {
     "start_time": "2023-04-03T23:08:28.251018Z",
     "end_time": "2023-04-03T23:08:28.391673Z"
    }
   },
   "outputs": [],
   "source": [
    "plt.plot(loss_history)"
   ]
  },
  {
   "cell_type": "code",
   "execution_count": null,
   "outputs": [],
   "source": [],
   "metadata": {
    "collapsed": false,
    "ExecuteTime": {
     "start_time": "2023-04-03T23:08:28.391452Z",
     "end_time": "2023-04-03T23:08:28.396009Z"
    }
   }
  },
  {
   "cell_type": "code",
   "execution_count": null,
   "outputs": [],
   "source": [
    "model = FCLayersNN(n_input = n_input, n_output = n_output, n_hidden = [20, 15], activation=\"relu\")\n",
    "\n",
    "dataset.mode(\"val\")\n",
    "print('Start train accuracy:', compute_accuracy(model, dataset))\n",
    "\n",
    "optimizer = SGD(model.params(), learning_rate = 2e-2)\n",
    "trainer = Trainer(model, dataset, optimizer, num_epochs=100)\n",
    "\n",
    "loss_history, train_history, val_history = trainer.fit()"
   ],
   "metadata": {
    "collapsed": false,
    "ExecuteTime": {
     "start_time": "2023-04-01T12:27:59.503635Z",
     "end_time": "2023-04-01T12:28:35.564685Z"
    }
   }
  },
  {
   "cell_type": "code",
   "execution_count": null,
   "outputs": [],
   "source": [
    "plt.plot(loss_history)"
   ],
   "metadata": {
    "collapsed": false,
    "ExecuteTime": {
     "start_time": "2023-04-01T12:28:35.566506Z",
     "end_time": "2023-04-01T12:28:35.665473Z"
    }
   }
  },
  {
   "cell_type": "code",
   "execution_count": null,
   "outputs": [],
   "source": [
    "model = FCLayersNN(n_input = n_input, n_output = n_output, n_hidden = [20, 15], activation=\"leaky_relu\")\n",
    "\n",
    "dataset.mode(\"val\")\n",
    "print('Start train accuracy:', compute_accuracy(model, dataset))\n",
    "\n",
    "optimizer = SGD(model.params(), learning_rate = 2e-2)\n",
    "trainer = Trainer(model, dataset, optimizer, num_epochs=100)\n",
    "\n",
    "loss_history, train_history, val_history = trainer.fit()"
   ],
   "metadata": {
    "collapsed": false,
    "ExecuteTime": {
     "start_time": "2023-04-01T12:28:35.666624Z",
     "end_time": "2023-04-01T12:29:12.234430Z"
    }
   }
  },
  {
   "cell_type": "code",
   "execution_count": null,
   "outputs": [],
   "source": [
    "plt.plot(loss_history)"
   ],
   "metadata": {
    "collapsed": false,
    "ExecuteTime": {
     "start_time": "2023-04-01T12:29:12.235474Z",
     "end_time": "2023-04-01T12:29:12.332766Z"
    }
   }
  },
  {
   "cell_type": "code",
   "execution_count": null,
   "outputs": [],
   "source": [
    "from train.optim import AdamW\n",
    "\n",
    "model = FCLayersNN(n_input = n_input, n_output = n_output, n_hidden = [20, 15], activation=\"relu\")\n",
    "\n",
    "dataset.mode(\"val\")\n",
    "print('Start train accuracy:', compute_accuracy(model, dataset))\n",
    "\n",
    "optimizer = AdamW(model.params())\n",
    "trainer = Trainer(model, dataset, optimizer, num_epochs=100)\n",
    "\n",
    "loss_history, train_history, val_history = trainer.fit()"
   ],
   "metadata": {
    "collapsed": false,
    "ExecuteTime": {
     "start_time": "2023-04-01T12:29:12.333416Z",
     "end_time": "2023-04-01T12:29:54.837536Z"
    }
   }
  },
  {
   "cell_type": "code",
   "execution_count": null,
   "outputs": [],
   "source": [],
   "metadata": {
    "collapsed": false,
    "ExecuteTime": {
     "start_time": "2023-04-01T12:29:54.838681Z",
     "end_time": "2023-04-01T12:29:54.842681Z"
    }
   }
  }
 ],
 "metadata": {
  "colab": {
   "collapsed_sections": [],
   "name": "Neural Network.ipynb",
   "provenance": []
  },
  "kernelspec": {
   "display_name": "Python 3.10.4 64-bit",
   "language": "python",
   "name": "python3"
  },
  "language_info": {
   "codemirror_mode": {
    "name": "ipython",
    "version": 3
   },
   "file_extension": ".py",
   "mimetype": "text/x-python",
   "name": "python",
   "nbconvert_exporter": "python",
   "pygments_lexer": "ipython3",
   "version": "3.10.4"
  },
  "vscode": {
   "interpreter": {
    "hash": "e7370f93d1d0cde622a1f8e1c04877d8463912d04d973331ad4851f04de6915a"
   }
  }
 },
 "nbformat": 4,
 "nbformat_minor": 0
}
