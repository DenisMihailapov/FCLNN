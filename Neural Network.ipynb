{
 "cells": [
  {
   "cell_type": "markdown",
   "metadata": {
    "id": "I7g_907K0aWp"
   },
   "source": [
    "#  Нейронная сеть"
   ]
  },
  {
   "cell_type": "code",
   "execution_count": 1,
   "metadata": {
    "colab": {
     "base_uri": "https://localhost:8080/"
    },
    "executionInfo": {
     "elapsed": 24516,
     "status": "ok",
     "timestamp": 1639972840826,
     "user": {
      "displayName": "Денис Иванович Михайлапов",
      "photoUrl": "https://lh3.googleusercontent.com/a/default-user=s64",
      "userId": "07025369822590947805"
     },
     "user_tz": -420
    },
    "id": "AfZ0QiZR0zLw",
    "outputId": "177d884e-5ad1-497b-f8f9-d0c525f53f6a"
   },
   "outputs": [],
   "source": [
    "path = '.'\n",
    "import sys; sys.path.append(path)"
   ]
  },
  {
   "cell_type": "code",
   "execution_count": 2,
   "metadata": {
    "executionInfo": {
     "elapsed": 4,
     "status": "ok",
     "timestamp": 1639972840827,
     "user": {
      "displayName": "Денис Иванович Михайлапов",
      "photoUrl": "https://lh3.googleusercontent.com/a/default-user=s64",
      "userId": "07025369822590947805"
     },
     "user_tz": -420
    },
    "id": "OqiCaBzJ0aWs"
   },
   "outputs": [],
   "source": [
    "import matplotlib.pyplot as plt\n",
    "\n",
    "%matplotlib inline\n",
    "\n",
    "%load_ext autoreload\n",
    "%autoreload 2"
   ]
  },
  {
   "cell_type": "code",
   "execution_count": 3,
   "metadata": {
    "executionInfo": {
     "elapsed": 276,
     "status": "ok",
     "timestamp": 1639974495303,
     "user": {
      "displayName": "Денис Иванович Михайлапов",
      "photoUrl": "https://lh3.googleusercontent.com/a/default-user=s64",
      "userId": "07025369822590947805"
     },
     "user_tz": -420
    },
    "id": "AaCcfK8F0aWt"
   },
   "outputs": [],
   "source": [
    "from dataset import Dataset\n",
    "from train.metrics import compute_accuracy\n",
    "from train.trainer import Trainer\n",
    "from train.optim   import SGD\n",
    "\n",
    "from model   import FCLayersNN"
   ]
  },
  {
   "cell_type": "markdown",
   "metadata": {
    "id": "cIDD3_vj0aWu"
   },
   "source": [
    "# Загружаем данные\n"
   ]
  },
  {
   "cell_type": "code",
   "execution_count": 4,
   "metadata": {
    "collapsed": false
   },
   "outputs": [],
   "source": [
    "dataset = Dataset(\"./data\")  # svhn dataset\n",
    "n_input, n_output = dataset.get_dim_features()"
   ]
  },
  {
   "cell_type": "markdown",
   "metadata": {
    "id": "I-DzGYSL0aWy"
   },
   "source": [
    "## Тренируем нейронную сеть"
   ]
  },
  {
   "cell_type": "code",
   "execution_count": 5,
   "metadata": {
    "colab": {
     "base_uri": "https://localhost:8080/"
    },
    "executionInfo": {
     "elapsed": 421029,
     "status": "ok",
     "timestamp": 1639975244171,
     "user": {
      "displayName": "Денис Иванович Михайлапов",
      "photoUrl": "https://lh3.googleusercontent.com/a/default-user=s64",
      "userId": "07025369822590947805"
     },
     "user_tz": -420
    },
    "id": "jIX3KSRW0aWz",
    "outputId": "aeb57f65-47f5-4287-fe5f-8f3569ee5d62"
   },
   "outputs": [
    {
     "name": "stdout",
     "output_type": "stream",
     "text": [
      "Start train accuracy: 0.106\n"
     ]
    },
    {
     "name": "stderr",
     "output_type": "stream",
     "text": [
      "  1%|          | 1/100 [00:00<01:28,  1.11it/s]"
     ]
    },
    {
     "name": "stdout",
     "output_type": "stream",
     "text": [
      "\n",
      " Loss: 2.27236, Train accuracy: 0.198, val accuracy: 0.197\n"
     ]
    },
    {
     "name": "stderr",
     "output_type": "stream",
     "text": [
      "  2%|▏         | 2/100 [00:01<01:09,  1.42it/s]"
     ]
    },
    {
     "name": "stdout",
     "output_type": "stream",
     "text": [
      "\n",
      " Loss: 2.26197, Train accuracy: 0.198, val accuracy: 0.197\n"
     ]
    },
    {
     "name": "stderr",
     "output_type": "stream",
     "text": [
      "  3%|▎         | 3/100 [00:02<01:22,  1.18it/s]"
     ]
    },
    {
     "name": "stdout",
     "output_type": "stream",
     "text": [
      "\n",
      " Loss: 2.25103, Train accuracy: 0.198, val accuracy: 0.197\n"
     ]
    },
    {
     "name": "stderr",
     "output_type": "stream",
     "text": [
      "  4%|▍         | 4/100 [00:03<01:13,  1.30it/s]"
     ]
    },
    {
     "name": "stdout",
     "output_type": "stream",
     "text": [
      "\n",
      " Loss: 2.23752, Train accuracy: 0.198, val accuracy: 0.197\n"
     ]
    },
    {
     "name": "stderr",
     "output_type": "stream",
     "text": [
      "  5%|▌         | 5/100 [00:03<01:05,  1.45it/s]"
     ]
    },
    {
     "name": "stdout",
     "output_type": "stream",
     "text": [
      "\n",
      " Loss: 2.21693, Train accuracy: 0.198, val accuracy: 0.197\n"
     ]
    },
    {
     "name": "stderr",
     "output_type": "stream",
     "text": [
      "  6%|▌         | 6/100 [00:04<01:01,  1.54it/s]"
     ]
    },
    {
     "name": "stdout",
     "output_type": "stream",
     "text": [
      "\n",
      " Loss: 2.18915, Train accuracy: 0.198, val accuracy: 0.197\n"
     ]
    },
    {
     "name": "stderr",
     "output_type": "stream",
     "text": [
      "  7%|▋         | 7/100 [00:04<01:00,  1.54it/s]"
     ]
    },
    {
     "name": "stdout",
     "output_type": "stream",
     "text": [
      "\n",
      " Loss: 2.15733, Train accuracy: 0.207, val accuracy: 0.206\n"
     ]
    },
    {
     "name": "stderr",
     "output_type": "stream",
     "text": [
      "  8%|▊         | 8/100 [00:05<00:58,  1.58it/s]"
     ]
    },
    {
     "name": "stdout",
     "output_type": "stream",
     "text": [
      "\n",
      " Loss: 2.12336, Train accuracy: 0.224, val accuracy: 0.223\n"
     ]
    },
    {
     "name": "stderr",
     "output_type": "stream",
     "text": [
      "  9%|▉         | 9/100 [00:06<00:58,  1.56it/s]"
     ]
    },
    {
     "name": "stdout",
     "output_type": "stream",
     "text": [
      "\n",
      " Loss: 2.08891, Train accuracy: 0.24, val accuracy: 0.241\n"
     ]
    },
    {
     "name": "stderr",
     "output_type": "stream",
     "text": [
      " 10%|█         | 10/100 [00:06<00:58,  1.54it/s]"
     ]
    },
    {
     "name": "stdout",
     "output_type": "stream",
     "text": [
      "\n",
      " Loss: 2.05151, Train accuracy: 0.254, val accuracy: 0.258\n"
     ]
    },
    {
     "name": "stderr",
     "output_type": "stream",
     "text": [
      " 11%|█         | 11/100 [00:07<01:00,  1.47it/s]"
     ]
    },
    {
     "name": "stdout",
     "output_type": "stream",
     "text": [
      "\n",
      " Loss: 2.01248, Train accuracy: 0.264, val accuracy: 0.269\n"
     ]
    },
    {
     "name": "stderr",
     "output_type": "stream",
     "text": [
      " 12%|█▏        | 12/100 [00:08<01:06,  1.32it/s]"
     ]
    },
    {
     "name": "stdout",
     "output_type": "stream",
     "text": [
      "\n",
      " Loss: 1.96966, Train accuracy: 0.272, val accuracy: 0.277\n"
     ]
    },
    {
     "name": "stderr",
     "output_type": "stream",
     "text": [
      " 13%|█▎        | 13/100 [00:09<01:07,  1.29it/s]"
     ]
    },
    {
     "name": "stdout",
     "output_type": "stream",
     "text": [
      "\n",
      " Loss: 1.92177, Train accuracy: 0.281, val accuracy: 0.279\n"
     ]
    },
    {
     "name": "stderr",
     "output_type": "stream",
     "text": [
      " 14%|█▍        | 14/100 [00:10<01:12,  1.19it/s]"
     ]
    },
    {
     "name": "stdout",
     "output_type": "stream",
     "text": [
      "\n",
      " Loss: 1.8641, Train accuracy: 0.298, val accuracy: 0.294\n"
     ]
    },
    {
     "name": "stderr",
     "output_type": "stream",
     "text": [
      " 15%|█▌        | 15/100 [00:11<01:12,  1.18it/s]"
     ]
    },
    {
     "name": "stdout",
     "output_type": "stream",
     "text": [
      "\n",
      " Loss: 1.79174, Train accuracy: 0.328, val accuracy: 0.32\n"
     ]
    },
    {
     "name": "stderr",
     "output_type": "stream",
     "text": [
      " 16%|█▌        | 16/100 [00:11<01:05,  1.29it/s]"
     ]
    },
    {
     "name": "stdout",
     "output_type": "stream",
     "text": [
      "\n",
      " Loss: 1.6978, Train accuracy: 0.36, val accuracy: 0.356\n"
     ]
    },
    {
     "name": "stderr",
     "output_type": "stream",
     "text": [
      " 17%|█▋        | 17/100 [00:12<01:01,  1.35it/s]"
     ]
    },
    {
     "name": "stdout",
     "output_type": "stream",
     "text": [
      "\n",
      " Loss: 1.5967, Train accuracy: 0.394, val accuracy: 0.387\n"
     ]
    },
    {
     "name": "stderr",
     "output_type": "stream",
     "text": [
      " 18%|█▊        | 18/100 [00:13<00:58,  1.41it/s]"
     ]
    },
    {
     "name": "stdout",
     "output_type": "stream",
     "text": [
      "\n",
      " Loss: 1.50311, Train accuracy: 0.424, val accuracy: 0.425\n"
     ]
    },
    {
     "name": "stderr",
     "output_type": "stream",
     "text": [
      " 19%|█▉        | 19/100 [00:14<01:04,  1.25it/s]"
     ]
    },
    {
     "name": "stdout",
     "output_type": "stream",
     "text": [
      "\n",
      " Loss: 1.44128, Train accuracy: 0.443, val accuracy: 0.444\n"
     ]
    },
    {
     "name": "stderr",
     "output_type": "stream",
     "text": [
      " 20%|██        | 20/100 [00:14<01:06,  1.21it/s]"
     ]
    },
    {
     "name": "stdout",
     "output_type": "stream",
     "text": [
      "\n",
      " Loss: 1.3988, Train accuracy: 0.462, val accuracy: 0.458\n"
     ]
    },
    {
     "name": "stderr",
     "output_type": "stream",
     "text": [
      " 21%|██        | 21/100 [00:15<01:01,  1.28it/s]"
     ]
    },
    {
     "name": "stdout",
     "output_type": "stream",
     "text": [
      "\n",
      " Loss: 1.37855, Train accuracy: 0.476, val accuracy: 0.472\n"
     ]
    },
    {
     "name": "stderr",
     "output_type": "stream",
     "text": [
      " 21%|██        | 21/100 [00:15<01:00,  1.31it/s]\n"
     ]
    },
    {
     "ename": "KeyboardInterrupt",
     "evalue": "",
     "output_type": "error",
     "traceback": [
      "\u001B[0;31m---------------------------------------------------------------------------\u001B[0m",
      "\u001B[0;31mKeyboardInterrupt\u001B[0m                         Traceback (most recent call last)",
      "Cell \u001B[0;32mIn[5], line 9\u001B[0m\n\u001B[1;32m      6\u001B[0m optimizer \u001B[38;5;241m=\u001B[39m SGD(model\u001B[38;5;241m.\u001B[39mparams(), learning_rate \u001B[38;5;241m=\u001B[39m \u001B[38;5;241m2e-2\u001B[39m)\n\u001B[1;32m      7\u001B[0m trainer \u001B[38;5;241m=\u001B[39m Trainer(model, dataset, optimizer, num_epochs\u001B[38;5;241m=\u001B[39m\u001B[38;5;241m100\u001B[39m)\n\u001B[0;32m----> 9\u001B[0m loss_history, train_history, val_history \u001B[38;5;241m=\u001B[39m \u001B[43mtrainer\u001B[49m\u001B[38;5;241;43m.\u001B[39;49m\u001B[43mfit\u001B[49m\u001B[43m(\u001B[49m\u001B[43m)\u001B[49m\n",
      "File \u001B[0;32m/media/denis/1b4157c4-d51d-43b1-b7aa-bb268c899458/Study/ML/deep/FCLNN/train/trainer.py:70\u001B[0m, in \u001B[0;36mTrainer.fit\u001B[0;34m(self)\u001B[0m\n\u001B[1;32m     66\u001B[0m loss_history, train_acc_history, val_acc_history \u001B[38;5;241m=\u001B[39m [], [], []\n\u001B[1;32m     68\u001B[0m \u001B[38;5;28;01mfor\u001B[39;00m _ \u001B[38;5;129;01min\u001B[39;00m tqdm(\u001B[38;5;28mrange\u001B[39m(\u001B[38;5;28mself\u001B[39m\u001B[38;5;241m.\u001B[39mnum_epochs)):\n\u001B[0;32m---> 70\u001B[0m     last_batch_loss, ave_loss, train_accuracy \u001B[38;5;241m=\u001B[39m \u001B[38;5;28;43mself\u001B[39;49m\u001B[38;5;241;43m.\u001B[39;49m\u001B[43mepoch_step\u001B[49m\u001B[43m(\u001B[49m\u001B[43m)\u001B[49m\n\u001B[1;32m     72\u001B[0m     \u001B[38;5;28mself\u001B[39m\u001B[38;5;241m.\u001B[39mdataset\u001B[38;5;241m.\u001B[39mmode(\u001B[38;5;124m\"\u001B[39m\u001B[38;5;124mval\u001B[39m\u001B[38;5;124m\"\u001B[39m)\n\u001B[1;32m     73\u001B[0m     \u001B[38;5;28;01mif\u001B[39;00m \u001B[38;5;28mself\u001B[39m\u001B[38;5;241m.\u001B[39mdataset\u001B[38;5;241m.\u001B[39my\u001B[38;5;241m.\u001B[39mdtype \u001B[38;5;129;01min\u001B[39;00m [np\u001B[38;5;241m.\u001B[39mint, np\u001B[38;5;241m.\u001B[39muint8, np\u001B[38;5;241m.\u001B[39mbool]:\n",
      "File \u001B[0;32m/media/denis/1b4157c4-d51d-43b1-b7aa-bb268c899458/Study/ML/deep/FCLNN/train/trainer.py:49\u001B[0m, in \u001B[0;36mTrainer.epoch_step\u001B[0;34m(self)\u001B[0m\n\u001B[1;32m     46\u001B[0m \u001B[38;5;28;01mfor\u001B[39;00m X, y \u001B[38;5;129;01min\u001B[39;00m \u001B[38;5;28mself\u001B[39m\u001B[38;5;241m.\u001B[39mdataset:\n\u001B[1;32m     47\u001B[0m     \u001B[38;5;28mself\u001B[39m\u001B[38;5;241m.\u001B[39moptimizer\u001B[38;5;241m.\u001B[39mzero_grad()\n\u001B[0;32m---> 49\u001B[0m     \u001B[38;5;28;43mself\u001B[39;49m\u001B[38;5;241;43m.\u001B[39;49m\u001B[43mmodel\u001B[49m\u001B[38;5;241;43m.\u001B[39;49m\u001B[43mpredict\u001B[49m\u001B[43m(\u001B[49m\u001B[43mX\u001B[49m\u001B[43m)\u001B[49m  \u001B[38;5;66;03m# save --> self.pred\u001B[39;00m\n\u001B[1;32m     50\u001B[0m     loss \u001B[38;5;241m=\u001B[39m \u001B[38;5;28mself\u001B[39m\u001B[38;5;241m.\u001B[39mmodel\u001B[38;5;241m.\u001B[39mcompute_loss_and_gradients(y)\n\u001B[1;32m     51\u001B[0m     batch_losses\u001B[38;5;241m.\u001B[39mappend(loss)\n",
      "File \u001B[0;32m/media/denis/1b4157c4-d51d-43b1-b7aa-bb268c899458/Study/ML/deep/FCLNN/model.py:101\u001B[0m, in \u001B[0;36mFCLayersNN.predict\u001B[0;34m(self, X)\u001B[0m\n\u001B[1;32m     99\u001B[0m \u001B[38;5;28mself\u001B[39m\u001B[38;5;241m.\u001B[39mpred \u001B[38;5;241m=\u001B[39m X\n\u001B[1;32m    100\u001B[0m \u001B[38;5;28;01mfor\u001B[39;00m fc_layer \u001B[38;5;129;01min\u001B[39;00m \u001B[38;5;28mself\u001B[39m\u001B[38;5;241m.\u001B[39mfc_layers[:\u001B[38;5;241m-\u001B[39m\u001B[38;5;241m1\u001B[39m]:\n\u001B[0;32m--> 101\u001B[0m     \u001B[38;5;28mself\u001B[39m\u001B[38;5;241m.\u001B[39mpred \u001B[38;5;241m=\u001B[39m \u001B[43mfc_layer\u001B[49m\u001B[43m(\u001B[49m\u001B[38;5;28;43mself\u001B[39;49m\u001B[38;5;241;43m.\u001B[39;49m\u001B[43mpred\u001B[49m\u001B[43m)\u001B[49m\n\u001B[1;32m    103\u001B[0m \u001B[38;5;28mself\u001B[39m\u001B[38;5;241m.\u001B[39mpred \u001B[38;5;241m=\u001B[39m \u001B[38;5;28mself\u001B[39m\u001B[38;5;241m.\u001B[39mfc_layers[\u001B[38;5;241m-\u001B[39m\u001B[38;5;241m1\u001B[39m](\u001B[38;5;28mself\u001B[39m\u001B[38;5;241m.\u001B[39mpred)\n\u001B[1;32m    105\u001B[0m \u001B[38;5;28;01mreturn\u001B[39;00m softmax(\u001B[38;5;28mself\u001B[39m\u001B[38;5;241m.\u001B[39mpred)\u001B[38;5;241m.\u001B[39margmax(\u001B[38;5;241m1\u001B[39m)\n",
      "File \u001B[0;32m/media/denis/1b4157c4-d51d-43b1-b7aa-bb268c899458/Study/ML/deep/FCLNN/nn/linear.py:32\u001B[0m, in \u001B[0;36mFullyConnectedLayer.__call__\u001B[0;34m(self, x)\u001B[0m\n\u001B[1;32m     31\u001B[0m \u001B[38;5;28;01mdef\u001B[39;00m \u001B[38;5;21m__call__\u001B[39m(\u001B[38;5;28mself\u001B[39m, x):\n\u001B[0;32m---> 32\u001B[0m     \u001B[38;5;28;01mreturn\u001B[39;00m \u001B[38;5;28;43mself\u001B[39;49m\u001B[38;5;241;43m.\u001B[39;49m\u001B[43mforward\u001B[49m\u001B[43m(\u001B[49m\u001B[43mx\u001B[49m\u001B[43m)\u001B[49m\n",
      "File \u001B[0;32m/media/denis/1b4157c4-d51d-43b1-b7aa-bb268c899458/Study/ML/deep/FCLNN/nn/linear.py:29\u001B[0m, in \u001B[0;36mFullyConnectedLayer.forward\u001B[0;34m(self, x)\u001B[0m\n\u001B[1;32m     27\u001B[0m \u001B[38;5;28;01mdef\u001B[39;00m \u001B[38;5;21mforward\u001B[39m(\u001B[38;5;28mself\u001B[39m, x):\n\u001B[1;32m     28\u001B[0m     \u001B[38;5;28mself\u001B[39m\u001B[38;5;241m.\u001B[39mx \u001B[38;5;241m=\u001B[39m x\n\u001B[0;32m---> 29\u001B[0m     \u001B[38;5;28;01mreturn\u001B[39;00m \u001B[38;5;28mself\u001B[39m\u001B[38;5;241m.\u001B[39mact(\u001B[38;5;28mself\u001B[39m\u001B[38;5;241m.\u001B[39mbias \u001B[38;5;241m+\u001B[39m \u001B[38;5;28;43mself\u001B[39;49m\u001B[38;5;241;43m.\u001B[39;49m\u001B[43mweight\u001B[49m\u001B[38;5;241;43m.\u001B[39;49m\u001B[43mdot\u001B[49m\u001B[43m(\u001B[49m\u001B[43mx\u001B[49m\u001B[43m)\u001B[49m)\n",
      "File \u001B[0;32m/media/denis/1b4157c4-d51d-43b1-b7aa-bb268c899458/Study/ML/deep/FCLNN/nn/utils/train_param.py:25\u001B[0m, in \u001B[0;36mParam.dot\u001B[0;34m(self, other)\u001B[0m\n\u001B[1;32m     24\u001B[0m \u001B[38;5;28;01mdef\u001B[39;00m \u001B[38;5;21mdot\u001B[39m(\u001B[38;5;28mself\u001B[39m, other: np\u001B[38;5;241m.\u001B[39mndarray \u001B[38;5;241m|\u001B[39m Param):\n\u001B[0;32m---> 25\u001B[0m     \u001B[38;5;28;01mreturn\u001B[39;00m \u001B[43mnp\u001B[49m\u001B[38;5;241;43m.\u001B[39;49m\u001B[43mdot\u001B[49m\u001B[43m(\u001B[49m\u001B[38;5;28;43mself\u001B[39;49m\u001B[38;5;241;43m.\u001B[39;49m\u001B[43m_get_val\u001B[49m\u001B[43m(\u001B[49m\u001B[43mother\u001B[49m\u001B[43m)\u001B[49m\u001B[43m,\u001B[49m\u001B[43m \u001B[49m\u001B[38;5;28;43mself\u001B[39;49m\u001B[38;5;241;43m.\u001B[39;49m\u001B[43mvalue\u001B[49m\u001B[43m)\u001B[49m\n",
      "File \u001B[0;32m<__array_function__ internals>:5\u001B[0m, in \u001B[0;36mdot\u001B[0;34m(*args, **kwargs)\u001B[0m\n",
      "\u001B[0;31mKeyboardInterrupt\u001B[0m: "
     ]
    }
   ],
   "source": [
    "model = FCLayersNN(n_input = n_input, n_output = n_output, n_hidden = [20, 15])\n",
    "\n",
    "dataset.mode(\"val\")\n",
    "print('Start train accuracy:', compute_accuracy(model, dataset))\n",
    "\n",
    "optimizer = SGD(model.params(), learning_rate = 2e-2)\n",
    "trainer = Trainer(model, dataset, optimizer, num_epochs=100)\n",
    "\n",
    "loss_history, train_history, val_history = trainer.fit()"
   ]
  },
  {
   "cell_type": "code",
   "execution_count": null,
   "metadata": {
    "collapsed": false
   },
   "outputs": [],
   "source": [
    "plt.plot(train_history)\n",
    "plt.plot(val_history)"
   ]
  },
  {
   "cell_type": "code",
   "execution_count": null,
   "metadata": {
    "colab": {
     "base_uri": "https://localhost:8080/",
     "height": 284
    },
    "executionInfo": {
     "elapsed": 858,
     "status": "ok",
     "timestamp": 1639975279867,
     "user": {
      "displayName": "Денис Иванович Михайлапов",
      "photoUrl": "https://lh3.googleusercontent.com/a/default-user=s64",
      "userId": "07025369822590947805"
     },
     "user_tz": -420
    },
    "id": "FnX4SqbFHZeR",
    "outputId": "edeaaa89-2e43-4bfa-9d1f-426717c81db9"
   },
   "outputs": [],
   "source": [
    "plt.plot(loss_history)"
   ]
  }
 ],
 "metadata": {
  "colab": {
   "collapsed_sections": [],
   "name": "Neural Network.ipynb",
   "provenance": []
  },
  "kernelspec": {
   "display_name": "Python 3.10.4 64-bit",
   "language": "python",
   "name": "python3"
  },
  "language_info": {
   "codemirror_mode": {
    "name": "ipython",
    "version": 3
   },
   "file_extension": ".py",
   "mimetype": "text/x-python",
   "name": "python",
   "nbconvert_exporter": "python",
   "pygments_lexer": "ipython3",
   "version": "3.10.4"
  },
  "vscode": {
   "interpreter": {
    "hash": "e7370f93d1d0cde622a1f8e1c04877d8463912d04d973331ad4851f04de6915a"
   }
  }
 },
 "nbformat": 4,
 "nbformat_minor": 0
}
