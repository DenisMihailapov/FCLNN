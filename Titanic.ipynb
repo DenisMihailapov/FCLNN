{
 "cells": [
  {
   "cell_type": "markdown",
   "metadata": {
    "id": "I7g_907K0aWp"
   },
   "source": [
    "#  Нейронная сеть"
   ]
  },
  {
   "cell_type": "code",
   "execution_count": null,
   "metadata": {
    "colab": {
     "base_uri": "https://localhost:8080/"
    },
    "executionInfo": {
     "elapsed": 24516,
     "status": "ok",
     "timestamp": 1639972840826,
     "user": {
      "displayName": "Денис Иванович Михайлапов",
      "photoUrl": "https://lh3.googleusercontent.com/a/default-user=s64",
      "userId": "07025369822590947805"
     },
     "user_tz": -420
    },
    "id": "AfZ0QiZR0zLw",
    "outputId": "177d884e-5ad1-497b-f8f9-d0c525f53f6a",
    "ExecuteTime": {
     "start_time": "2023-04-04T13:47:33.955701Z",
     "end_time": "2023-04-04T13:47:33.955876Z"
    }
   },
   "outputs": [],
   "source": [
    "path = '.'\n",
    "import sys; sys.path.append(path)"
   ]
  },
  {
   "cell_type": "code",
   "execution_count": null,
   "metadata": {
    "executionInfo": {
     "elapsed": 4,
     "status": "ok",
     "timestamp": 1639972840827,
     "user": {
      "displayName": "Денис Иванович Михайлапов",
      "photoUrl": "https://lh3.googleusercontent.com/a/default-user=s64",
      "userId": "07025369822590947805"
     },
     "user_tz": -420
    },
    "id": "OqiCaBzJ0aWs",
    "ExecuteTime": {
     "start_time": "2023-04-04T13:47:33.955751Z",
     "end_time": "2023-04-04T13:47:34.181178Z"
    }
   },
   "outputs": [],
   "source": [
    "import matplotlib.pyplot as plt\n",
    "\n",
    "%matplotlib inline\n",
    "\n",
    "%load_ext autoreload\n",
    "%autoreload 2"
   ]
  },
  {
   "cell_type": "code",
   "execution_count": null,
   "metadata": {
    "executionInfo": {
     "elapsed": 276,
     "status": "ok",
     "timestamp": 1639974495303,
     "user": {
      "displayName": "Денис Иванович Михайлапов",
      "photoUrl": "https://lh3.googleusercontent.com/a/default-user=s64",
      "userId": "07025369822590947805"
     },
     "user_tz": -420
    },
    "id": "AaCcfK8F0aWt",
    "ExecuteTime": {
     "start_time": "2023-04-04T13:47:34.182694Z",
     "end_time": "2023-04-04T13:47:34.353945Z"
    }
   },
   "outputs": [],
   "source": [
    "from dataset import TitanicDataset\n",
    "from train.metrics import compute_accuracy\n",
    "from train.trainer import Trainer\n",
    "from train.optim   import SGD\n",
    "from train.loss import CrossEntropyLoss\n",
    "\n",
    "from model   import FCLayersNN"
   ]
  },
  {
   "cell_type": "markdown",
   "metadata": {
    "id": "cIDD3_vj0aWu"
   },
   "source": [
    "# Загружаем данные\n"
   ]
  },
  {
   "cell_type": "code",
   "execution_count": null,
   "metadata": {
    "collapsed": false,
    "ExecuteTime": {
     "start_time": "2023-04-04T13:47:34.355198Z",
     "end_time": "2023-04-04T13:47:34.399918Z"
    }
   },
   "outputs": [],
   "source": [
    "dataset = TitanicDataset()\n",
    "n_input, n_output = dataset.get_dim_features()"
   ]
  },
  {
   "cell_type": "markdown",
   "metadata": {
    "id": "I-DzGYSL0aWy"
   },
   "source": [
    "## Тренируем нейронную сеть"
   ]
  },
  {
   "cell_type": "code",
   "execution_count": null,
   "metadata": {
    "colab": {
     "base_uri": "https://localhost:8080/"
    },
    "executionInfo": {
     "elapsed": 421029,
     "status": "ok",
     "timestamp": 1639975244171,
     "user": {
      "displayName": "Денис Иванович Михайлапов",
      "photoUrl": "https://lh3.googleusercontent.com/a/default-user=s64",
      "userId": "07025369822590947805"
     },
     "user_tz": -420
    },
    "id": "jIX3KSRW0aWz",
    "outputId": "aeb57f65-47f5-4287-fe5f-8f3569ee5d62",
    "ExecuteTime": {
     "start_time": "2023-04-04T13:47:34.399791Z",
     "end_time": "2023-04-04T13:47:50.896103Z"
    }
   },
   "outputs": [],
   "source": [
    "model = FCLayersNN(n_input = n_input, n_output = n_output, n_hidden = [3, 3, 2], activation=\"silu\", reg=0.007)\n",
    "\n",
    "dataset.mode(\"val\")\n",
    "print('Start train accuracy:', compute_accuracy(model, dataset))\n",
    "\n",
    "optimizer = SGD(model.params(), learning_rate = 4e-3)\n",
    "loss_fn = CrossEntropyLoss()\n",
    "trainer = Trainer(model, dataset, optimizer, loss_fn, num_epochs=2500)\n",
    "\n",
    "loss_history, train_history, val_history = trainer.fit()"
   ]
  },
  {
   "cell_type": "code",
   "execution_count": null,
   "metadata": {
    "collapsed": false,
    "ExecuteTime": {
     "start_time": "2023-04-04T13:47:50.895795Z",
     "end_time": "2023-04-04T13:47:51.009771Z"
    }
   },
   "outputs": [],
   "source": [
    "plt.plot(train_history)\n",
    "plt.plot(val_history)"
   ]
  },
  {
   "cell_type": "code",
   "execution_count": null,
   "metadata": {
    "colab": {
     "base_uri": "https://localhost:8080/",
     "height": 284
    },
    "executionInfo": {
     "elapsed": 858,
     "status": "ok",
     "timestamp": 1639975279867,
     "user": {
      "displayName": "Денис Иванович Михайлапов",
      "photoUrl": "https://lh3.googleusercontent.com/a/default-user=s64",
      "userId": "07025369822590947805"
     },
     "user_tz": -420
    },
    "id": "FnX4SqbFHZeR",
    "outputId": "edeaaa89-2e43-4bfa-9d1f-426717c81db9",
    "ExecuteTime": {
     "start_time": "2023-04-04T13:47:51.003729Z",
     "end_time": "2023-04-04T13:47:51.427912Z"
    }
   },
   "outputs": [],
   "source": [
    "plt.loglog(loss_history)"
   ]
  },
  {
   "cell_type": "code",
   "execution_count": null,
   "outputs": [],
   "source": [],
   "metadata": {
    "collapsed": false,
    "ExecuteTime": {
     "start_time": "2023-04-04T13:47:51.429568Z",
     "end_time": "2023-04-04T13:47:51.476090Z"
    }
   }
  }
 ],
 "metadata": {
  "colab": {
   "collapsed_sections": [],
   "name": "Neural Network.ipynb",
   "provenance": []
  },
  "kernelspec": {
   "display_name": "Python 3.10.4 64-bit",
   "language": "python",
   "name": "python3"
  },
  "language_info": {
   "codemirror_mode": {
    "name": "ipython",
    "version": 3
   },
   "file_extension": ".py",
   "mimetype": "text/x-python",
   "name": "python",
   "nbconvert_exporter": "python",
   "pygments_lexer": "ipython3",
   "version": "3.10.4"
  },
  "vscode": {
   "interpreter": {
    "hash": "e7370f93d1d0cde622a1f8e1c04877d8463912d04d973331ad4851f04de6915a"
   }
  }
 },
 "nbformat": 4,
 "nbformat_minor": 0
}
